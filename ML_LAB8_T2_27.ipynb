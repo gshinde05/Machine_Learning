{
 "cells": [
  {
   "cell_type": "markdown",
   "metadata": {
    "id": "i_paGd_yLbgH"
   },
   "source": [
    "# K-Means Clustering"
   ]
  },
  {
   "cell_type": "markdown",
   "metadata": {
    "id": "nAuqPwTnLipr"
   },
   "source": [
    "## Importing the libraries"
   ]
  },
  {
   "cell_type": "code",
   "execution_count": 1,
   "metadata": {
    "id": "nAzDjMAHM6tK"
   },
   "outputs": [],
   "source": [
    "import numpy as np\n",
    "import matplotlib.pyplot as plt\n",
    "import pandas as pd"
   ]
  },
  {
   "cell_type": "markdown",
   "metadata": {
    "id": "5LciKOr8Lo5O"
   },
   "source": [
    "## Importing the dataset"
   ]
  },
  {
   "cell_type": "code",
   "execution_count": 2,
   "metadata": {
    "id": "MmrLM8u_NF29"
   },
   "outputs": [],
   "source": [
    "dataset = pd.read_csv(\"C:\\\\Users\\\\gauri\\\\Downloads\\\\retail.csv\")"
   ]
  },
  {
   "cell_type": "code",
   "execution_count": 3,
   "metadata": {
    "colab": {
     "base_uri": "https://localhost:8080/"
    },
    "id": "WVxRimQ2ynyE",
    "outputId": "a70d9caf-f76b-41ab-f10a-6f150dcbb97a"
   },
   "outputs": [
    {
     "name": "stdout",
     "output_type": "stream",
     "text": [
      "<class 'pandas.core.frame.DataFrame'>\n",
      "RangeIndex: 230 entries, 0 to 229\n",
      "Data columns (total 5 columns):\n",
      " #   Column       Non-Null Count  Dtype \n",
      "---  ------       --------------  ----- \n",
      " 0   CustomerID   230 non-null    int64 \n",
      " 1   Gender       230 non-null    object\n",
      " 2   Price        230 non-null    int64 \n",
      " 3   Discount(%)  230 non-null    int64 \n",
      " 4   TotalAmount  230 non-null    int64 \n",
      "dtypes: int64(4), object(1)\n",
      "memory usage: 9.1+ KB\n"
     ]
    }
   ],
   "source": [
    "dataset.info()"
   ]
  },
  {
   "cell_type": "code",
   "execution_count": 4,
   "metadata": {
    "colab": {
     "base_uri": "https://localhost:8080/"
    },
    "id": "VQx3HYqOytXL",
    "outputId": "66f5addc-4cfc-4354-c16e-266182346f3c"
   },
   "outputs": [
    {
     "data": {
      "text/plain": [
       "(230, 5)"
      ]
     },
     "execution_count": 4,
     "metadata": {},
     "output_type": "execute_result"
    }
   ],
   "source": [
    "dataset.shape"
   ]
  },
  {
   "cell_type": "code",
   "execution_count": 5,
   "metadata": {
    "id": "NaklPjHmzfBB"
   },
   "outputs": [],
   "source": [
    "X = dataset.iloc[:,[3,4]].values"
   ]
  },
  {
   "cell_type": "code",
   "execution_count": 6,
   "metadata": {
    "colab": {
     "base_uri": "https://localhost:8080/"
    },
    "id": "zRghupiIPe3Y",
    "outputId": "610f4821-f532-4970-9eb6-008bb4cd320d"
   },
   "outputs": [
    {
     "name": "stdout",
     "output_type": "stream",
     "text": [
      "[[ 18 455]\n",
      " [ 14 258]\n",
      " [ 15 212]\n",
      " [  6 461]\n",
      " [  4 626]\n",
      " [ 10 144]\n",
      " [ 16  76]\n",
      " [  6 419]\n",
      " [ 18  96]\n",
      " [  7 234]\n",
      " [ 14 678]\n",
      " [ 14 533]\n",
      " [ 14 100]\n",
      " [ 10 243]\n",
      " [ 16 397]\n",
      " [ 14  34]\n",
      " [ 15 611]\n",
      " [ 18  81]\n",
      " [  6  88]\n",
      " [ 19 311]\n",
      " [ 18  37]\n",
      " [ 15 311]\n",
      " [ 11 433]\n",
      " [  0  64]\n",
      " [ 15  64]\n",
      " [ 18 354]\n",
      " [  8 360]\n",
      " [  4 236]\n",
      " [ 14  40]\n",
      " [ 12 199]\n",
      " [ 19 104]\n",
      " [  3 143]\n",
      " [  6 287]\n",
      " [ 17 368]\n",
      " [ 13 518]\n",
      " [ 16  80]\n",
      " [ 13 340]\n",
      " [  4 689]\n",
      " [ 12  94]\n",
      " [ 18 436]\n",
      " [ 13 382]\n",
      " [ 12 138]\n",
      " [ 16 231]\n",
      " [ 14 204]\n",
      " [ 16 314]\n",
      " [  5 228]\n",
      " [ 10  59]\n",
      " [ 17 317]\n",
      " [ 12 154]\n",
      " [  6 361]\n",
      " [  5 137]\n",
      " [ 15  35]\n",
      " [ 13 241]\n",
      " [  9 164]\n",
      " [  3  44]\n",
      " [  5 126]\n",
      " [ 17  83]\n",
      " [  6 168]\n",
      " [ 10 139]\n",
      " [  6 372]\n",
      " [ 15 262]\n",
      " [  3 373]\n",
      " [ 16 500]\n",
      " [  9 252]\n",
      " [  8  85]\n",
      " [ 18 386]\n",
      " [  4 265]\n",
      " [ 15 645]\n",
      " [ 19 409]\n",
      " [ 19  40]\n",
      " [ 14 119]\n",
      " [  5 578]\n",
      " [ 17 253]\n",
      " [  8 522]\n",
      " [  7  81]\n",
      " [  7 429]\n",
      " [  1 534]\n",
      " [  7 113]\n",
      " [ 18  61]\n",
      " [  5 523]\n",
      " [  6 141]\n",
      " [ 15 170]\n",
      " [  1  33]\n",
      " [ 16 288]\n",
      " [ 17 409]\n",
      " [  2 437]\n",
      " [  4 216]\n",
      " [ 14 634]\n",
      " [  9 564]\n",
      " [  6  28]\n",
      " [  7  50]\n",
      " [ 15 108]\n",
      " [  2 264]\n",
      " [ 15 323]\n",
      " [  5 122]\n",
      " [ 15 132]\n",
      " [ 19 476]\n",
      " [ 18 240]\n",
      " [ 19  74]\n",
      " [  4  45]\n",
      " [ 19 153]\n",
      " [  3 452]\n",
      " [  0 163]\n",
      " [  3  86]\n",
      " [  0 490]\n",
      " [  0 421]\n",
      " [ 12 142]\n",
      " [  0 791]\n",
      " [  5 247]\n",
      " [  9 561]\n",
      " [  4  91]\n",
      " [ 19 112]\n",
      " [  6 150]\n",
      " [  0 357]\n",
      " [  8 391]\n",
      " [  2 603]\n",
      " [ 17 109]\n",
      " [ 10 432]\n",
      " [  1 278]\n",
      " [  7 163]\n",
      " [  7  69]\n",
      " [ 15 355]\n",
      " [ 19  71]\n",
      " [  6 145]\n",
      " [  4 169]\n",
      " [ 14  99]\n",
      " [ 10 344]\n",
      " [ 14 190]\n",
      " [  1  86]\n",
      " [ 19  51]\n",
      " [  9 738]\n",
      " [ 16 211]\n",
      " [  3  66]\n",
      " [  3 364]\n",
      " [  7  41]\n",
      " [  4 596]\n",
      " [  3 156]\n",
      " [  1 178]\n",
      " [  2 712]\n",
      " [  3 358]\n",
      " [  2  14]\n",
      " [ 11 148]\n",
      " [ 16 334]\n",
      " [ 17 222]\n",
      " [ 18 138]\n",
      " [  8 667]\n",
      " [ 16 105]\n",
      " [ 14  43]\n",
      " [ 18  72]\n",
      " [ 12 135]\n",
      " [  3  88]\n",
      " [ 16 150]\n",
      " [  3 157]\n",
      " [  8  49]\n",
      " [ 14 255]\n",
      " [ 17  21]\n",
      " [  5 561]\n",
      " [  3  29]\n",
      " [ 12  32]\n",
      " [  7 123]\n",
      " [ 12 134]\n",
      " [ 16 377]\n",
      " [  9 110]\n",
      " [  1 383]\n",
      " [ 18  56]\n",
      " [  5  60]\n",
      " [ 19 234]\n",
      " [ 16  68]\n",
      " [  6 334]\n",
      " [  8 338]\n",
      " [  1 309]\n",
      " [ 15 273]\n",
      " [  6 303]\n",
      " [  3 465]\n",
      " [ 16  50]\n",
      " [ 16 279]\n",
      " [  7 379]\n",
      " [  5 119]\n",
      " [ 13 110]\n",
      " [  5  39]\n",
      " [ 10 404]\n",
      " [ 12 402]\n",
      " [ 12  59]\n",
      " [ 13 716]\n",
      " [  7 188]\n",
      " [ 10 224]\n",
      " [  3 103]\n",
      " [  3  62]\n",
      " [ 11  26]\n",
      " [  5 176]\n",
      " [  0 240]\n",
      " [ 16 282]\n",
      " [  3 354]\n",
      " [ 11  54]\n",
      " [  8 108]\n",
      " [  3  89]\n",
      " [ 10 131]\n",
      " [ 13 485]\n",
      " [  5  30]\n",
      " [ 14 180]\n",
      " [ 17  20]\n",
      " [ 10 280]\n",
      " [  1 412]\n",
      " [  0  42]\n",
      " [  4 654]\n",
      " [ 19  24]\n",
      " [ 11 493]\n",
      " [ 13 448]\n",
      " [ 13  61]\n",
      " [  7  19]\n",
      " [  2 122]\n",
      " [ 13  33]\n",
      " [ 17 208]\n",
      " [ 10 267]\n",
      " [ 10 385]\n",
      " [ 15 473]\n",
      " [ 14 124]\n",
      " [ 11 204]\n",
      " [  0 108]\n",
      " [ 11  54]\n",
      " [  9  69]\n",
      " [  2 243]\n",
      " [ 18 324]\n",
      " [  9 378]\n",
      " [  5  18]\n",
      " [  8  94]\n",
      " [ 12  42]\n",
      " [  8  43]\n",
      " [ 13 561]\n",
      " [ 12 214]]\n"
     ]
    }
   ],
   "source": [
    "print(X)"
   ]
  },
  {
   "cell_type": "markdown",
   "metadata": {
    "id": "nWC2EWp2Lx5G"
   },
   "source": [
    "### Using the elbow method to find the optimal number of clusters"
   ]
  },
  {
   "cell_type": "code",
   "execution_count": 7,
   "metadata": {
    "colab": {
     "base_uri": "https://localhost:8080/",
     "height": 295
    },
    "id": "4mq02U0PNFNx",
    "outputId": "2668d2b9-594e-4685-8462-a2b15b8084e0"
   },
   "outputs": [
    {
     "name": "stderr",
     "output_type": "stream",
     "text": [
      "C:\\ProgramData\\anaconda3\\Lib\\site-packages\\sklearn\\cluster\\_kmeans.py:1412: FutureWarning: The default value of `n_init` will change from 10 to 'auto' in 1.4. Set the value of `n_init` explicitly to suppress the warning\n",
      "  super()._check_params_vs_input(X, default_n_init=10)\n",
      "C:\\ProgramData\\anaconda3\\Lib\\site-packages\\sklearn\\cluster\\_kmeans.py:1436: UserWarning: KMeans is known to have a memory leak on Windows with MKL, when there are less chunks than available threads. You can avoid it by setting the environment variable OMP_NUM_THREADS=1.\n",
      "  warnings.warn(\n",
      "C:\\ProgramData\\anaconda3\\Lib\\site-packages\\sklearn\\cluster\\_kmeans.py:1412: FutureWarning: The default value of `n_init` will change from 10 to 'auto' in 1.4. Set the value of `n_init` explicitly to suppress the warning\n",
      "  super()._check_params_vs_input(X, default_n_init=10)\n",
      "C:\\ProgramData\\anaconda3\\Lib\\site-packages\\sklearn\\cluster\\_kmeans.py:1436: UserWarning: KMeans is known to have a memory leak on Windows with MKL, when there are less chunks than available threads. You can avoid it by setting the environment variable OMP_NUM_THREADS=1.\n",
      "  warnings.warn(\n",
      "C:\\ProgramData\\anaconda3\\Lib\\site-packages\\sklearn\\cluster\\_kmeans.py:1412: FutureWarning: The default value of `n_init` will change from 10 to 'auto' in 1.4. Set the value of `n_init` explicitly to suppress the warning\n",
      "  super()._check_params_vs_input(X, default_n_init=10)\n",
      "C:\\ProgramData\\anaconda3\\Lib\\site-packages\\sklearn\\cluster\\_kmeans.py:1436: UserWarning: KMeans is known to have a memory leak on Windows with MKL, when there are less chunks than available threads. You can avoid it by setting the environment variable OMP_NUM_THREADS=1.\n",
      "  warnings.warn(\n",
      "C:\\ProgramData\\anaconda3\\Lib\\site-packages\\sklearn\\cluster\\_kmeans.py:1412: FutureWarning: The default value of `n_init` will change from 10 to 'auto' in 1.4. Set the value of `n_init` explicitly to suppress the warning\n",
      "  super()._check_params_vs_input(X, default_n_init=10)\n",
      "C:\\ProgramData\\anaconda3\\Lib\\site-packages\\sklearn\\cluster\\_kmeans.py:1436: UserWarning: KMeans is known to have a memory leak on Windows with MKL, when there are less chunks than available threads. You can avoid it by setting the environment variable OMP_NUM_THREADS=1.\n",
      "  warnings.warn(\n",
      "C:\\ProgramData\\anaconda3\\Lib\\site-packages\\sklearn\\cluster\\_kmeans.py:1412: FutureWarning: The default value of `n_init` will change from 10 to 'auto' in 1.4. Set the value of `n_init` explicitly to suppress the warning\n",
      "  super()._check_params_vs_input(X, default_n_init=10)\n",
      "C:\\ProgramData\\anaconda3\\Lib\\site-packages\\sklearn\\cluster\\_kmeans.py:1436: UserWarning: KMeans is known to have a memory leak on Windows with MKL, when there are less chunks than available threads. You can avoid it by setting the environment variable OMP_NUM_THREADS=1.\n",
      "  warnings.warn(\n",
      "C:\\ProgramData\\anaconda3\\Lib\\site-packages\\sklearn\\cluster\\_kmeans.py:1412: FutureWarning: The default value of `n_init` will change from 10 to 'auto' in 1.4. Set the value of `n_init` explicitly to suppress the warning\n",
      "  super()._check_params_vs_input(X, default_n_init=10)\n",
      "C:\\ProgramData\\anaconda3\\Lib\\site-packages\\sklearn\\cluster\\_kmeans.py:1436: UserWarning: KMeans is known to have a memory leak on Windows with MKL, when there are less chunks than available threads. You can avoid it by setting the environment variable OMP_NUM_THREADS=1.\n",
      "  warnings.warn(\n",
      "C:\\ProgramData\\anaconda3\\Lib\\site-packages\\sklearn\\cluster\\_kmeans.py:1412: FutureWarning: The default value of `n_init` will change from 10 to 'auto' in 1.4. Set the value of `n_init` explicitly to suppress the warning\n",
      "  super()._check_params_vs_input(X, default_n_init=10)\n",
      "C:\\ProgramData\\anaconda3\\Lib\\site-packages\\sklearn\\cluster\\_kmeans.py:1436: UserWarning: KMeans is known to have a memory leak on Windows with MKL, when there are less chunks than available threads. You can avoid it by setting the environment variable OMP_NUM_THREADS=1.\n",
      "  warnings.warn(\n",
      "C:\\ProgramData\\anaconda3\\Lib\\site-packages\\sklearn\\cluster\\_kmeans.py:1412: FutureWarning: The default value of `n_init` will change from 10 to 'auto' in 1.4. Set the value of `n_init` explicitly to suppress the warning\n",
      "  super()._check_params_vs_input(X, default_n_init=10)\n",
      "C:\\ProgramData\\anaconda3\\Lib\\site-packages\\sklearn\\cluster\\_kmeans.py:1436: UserWarning: KMeans is known to have a memory leak on Windows with MKL, when there are less chunks than available threads. You can avoid it by setting the environment variable OMP_NUM_THREADS=1.\n",
      "  warnings.warn(\n",
      "C:\\ProgramData\\anaconda3\\Lib\\site-packages\\sklearn\\cluster\\_kmeans.py:1412: FutureWarning: The default value of `n_init` will change from 10 to 'auto' in 1.4. Set the value of `n_init` explicitly to suppress the warning\n",
      "  super()._check_params_vs_input(X, default_n_init=10)\n",
      "C:\\ProgramData\\anaconda3\\Lib\\site-packages\\sklearn\\cluster\\_kmeans.py:1436: UserWarning: KMeans is known to have a memory leak on Windows with MKL, when there are less chunks than available threads. You can avoid it by setting the environment variable OMP_NUM_THREADS=1.\n",
      "  warnings.warn(\n",
      "C:\\ProgramData\\anaconda3\\Lib\\site-packages\\sklearn\\cluster\\_kmeans.py:1412: FutureWarning: The default value of `n_init` will change from 10 to 'auto' in 1.4. Set the value of `n_init` explicitly to suppress the warning\n",
      "  super()._check_params_vs_input(X, default_n_init=10)\n",
      "C:\\ProgramData\\anaconda3\\Lib\\site-packages\\sklearn\\cluster\\_kmeans.py:1436: UserWarning: KMeans is known to have a memory leak on Windows with MKL, when there are less chunks than available threads. You can avoid it by setting the environment variable OMP_NUM_THREADS=1.\n",
      "  warnings.warn(\n"
     ]
    },
    {
     "data": {
      "image/png": "[encoded data removed]",
      "text/plain": [
       "<Figure size 640x480 with 1 Axes>"
      ]
     },
     "metadata": {},
     "output_type": "display_data"
    }
   ],
   "source": [
    " from sklearn.cluster import KMeans\n",
    " wcss = []\n",
    " for i in range(1,11):\n",
    "   kmeans = KMeans(n_clusters= i, init='k-means++',random_state= 42)\n",
    "   kmeans.fit(X)\n",
    "   wcss.append(kmeans.inertia_)\n",
    "plt.plot(range(1,11),wcss)\n",
    "plt.title(\"Elbow method\")\n",
    "plt.xlabel(\"No. of clusters\")\n",
    "plt.ylabel(\"WCSS\")\n",
    "plt.show()\n"
   ]
  },
  {
   "cell_type": "markdown",
   "metadata": {
    "id": "VgT0mANLL4Nz"
   },
   "source": [
    "## Training the K-Means model on the dataset"
   ]
  },
  {
   "cell_type": "code",
   "execution_count": 8,
   "metadata": {
    "colab": {
     "base_uri": "https://localhost:8080/"
    },
    "id": "g6ow3v3IQVcm",
    "outputId": "68fee019-6328-4a4f-a93c-84b4435e5afb"
   },
   "outputs": [
    {
     "name": "stderr",
     "output_type": "stream",
     "text": [
      "C:\\ProgramData\\anaconda3\\Lib\\site-packages\\sklearn\\cluster\\_kmeans.py:1412: FutureWarning: The default value of `n_init` will change from 10 to 'auto' in 1.4. Set the value of `n_init` explicitly to suppress the warning\n",
      "  super()._check_params_vs_input(X, default_n_init=10)\n",
      "C:\\ProgramData\\anaconda3\\Lib\\site-packages\\sklearn\\cluster\\_kmeans.py:1436: UserWarning: KMeans is known to have a memory leak on Windows with MKL, when there are less chunks than available threads. You can avoid it by setting the environment variable OMP_NUM_THREADS=1.\n",
      "  warnings.warn(\n"
     ]
    },
    {
     "data": {
      "text/html": [
       "<style>#sk-container-id-1 {color: black;}#sk-container-id-1 pre{padding: 0;}#sk-container-id-1 div.sk-toggleable {background-color: white;}#sk-container-id-1 label.sk-toggleable__label {cursor: pointer;display: block;width: 100%;margin-bottom: 0;padding: 0.3em;box-sizing: border-box;text-align: center;}#sk-container-id-1 label.sk-toggleable__label-arrow:before {content: \"▸\";float: left;margin-right: 0.25em;color: #696969;}#sk-container-id-1 label.sk-toggleable__label-arrow:hover:before {color: black;}#sk-container-id-1 div.sk-estimator:hover label.sk-toggleable__label-arrow:before {color: black;}#sk-container-id-1 div.sk-toggleable__content {max-height: 0;max-width: 0;overflow: hidden;text-align: left;background-color: #f0f8ff;}#sk-container-id-1 div.sk-toggleable__content pre {margin: 0.2em;color: black;border-radius: 0.25em;background-color: #f0f8ff;}#sk-container-id-1 input.sk-toggleable__control:checked~div.sk-toggleable__content {max-height: 200px;max-width: 100%;overflow: auto;}#sk-container-id-1 input.sk-toggleable__control:checked~label.sk-toggleable__label-arrow:before {content: \"▾\";}#sk-container-id-1 div.sk-estimator input.sk-toggleable__control:checked~label.sk-toggleable__label {background-color: #d4ebff;}#sk-container-id-1 div.sk-label input.sk-toggleable__control:checked~label.sk-toggleable__label {background-color: #d4ebff;}#sk-container-id-1 input.sk-hidden--visually {border: 0;clip: rect(1px 1px 1px 1px);clip: rect(1px, 1px, 1px, 1px);height: 1px;margin: -1px;overflow: hidden;padding: 0;position: absolute;width: 1px;}#sk-container-id-1 div.sk-estimator {font-family: monospace;background-color: #f0f8ff;border: 1px dotted black;border-radius: 0.25em;box-sizing: border-box;margin-bottom: 0.5em;}#sk-container-id-1 div.sk-estimator:hover {background-color: #d4ebff;}#sk-container-id-1 div.sk-parallel-item::after {content: \"\";width: 100%;border-bottom: 1px solid gray;flex-grow: 1;}#sk-container-id-1 div.sk-label:hover label.sk-toggleable__label {background-color: #d4ebff;}#sk-container-id-1 div.sk-serial::before {content: \"\";position: absolute;border-left: 1px solid gray;box-sizing: border-box;top: 0;bottom: 0;left: 50%;z-index: 0;}#sk-container-id-1 div.sk-serial {display: flex;flex-direction: column;align-items: center;background-color: white;padding-right: 0.2em;padding-left: 0.2em;position: relative;}#sk-container-id-1 div.sk-item {position: relative;z-index: 1;}#sk-container-id-1 div.sk-parallel {display: flex;align-items: stretch;justify-content: center;background-color: white;position: relative;}#sk-container-id-1 div.sk-item::before, #sk-container-id-1 div.sk-parallel-item::before {content: \"\";position: absolute;border-left: 1px solid gray;box-sizing: border-box;top: 0;bottom: 0;left: 50%;z-index: -1;}#sk-container-id-1 div.sk-parallel-item {display: flex;flex-direction: column;z-index: 1;position: relative;background-color: white;}#sk-container-id-1 div.sk-parallel-item:first-child::after {align-self: flex-end;width: 50%;}#sk-container-id-1 div.sk-parallel-item:last-child::after {align-self: flex-start;width: 50%;}#sk-container-id-1 div.sk-parallel-item:only-child::after {width: 0;}#sk-container-id-1 div.sk-dashed-wrapped {border: 1px dashed gray;margin: 0 0.4em 0.5em 0.4em;box-sizing: border-box;padding-bottom: 0.4em;background-color: white;}#sk-container-id-1 div.sk-label label {font-family: monospace;font-weight: bold;display: inline-block;line-height: 1.2em;}#sk-container-id-1 div.sk-label-container {text-align: center;}#sk-container-id-1 div.sk-container {/* jupyter's `normalize.less` sets `[hidden] { display: none; }` but bootstrap.min.css set `[hidden] { display: none !important; }` so we also need the `!important` here to be able to override the default hidden behavior on the sphinx rendered scikit-learn.org. See: https://github.com/scikit-learn/scikit-learn/issues/21755 */display: inline-block !important;position: relative;}#sk-container-id-1 div.sk-text-repr-fallback {display: none;}</style><div id=\"sk-container-id-1\" class=\"sk-top-container\"><div class=\"sk-text-repr-fallback\"><pre>KMeans(n_clusters=5, random_state=42)</pre><b>In a Jupyter environment, please rerun this cell to show the HTML representation or trust the notebook. <br />On GitHub, the HTML representation is unable to render, please try loading this page with nbviewer.org.</b></div><div class=\"sk-container\" hidden><div class=\"sk-item\"><div class=\"sk-estimator sk-toggleable\"><input class=\"sk-toggleable__control sk-hidden--visually\" id=\"sk-estimator-id-1\" type=\"checkbox\" checked><label for=\"sk-estimator-id-1\" class=\"sk-toggleable__label sk-toggleable__label-arrow\">KMeans</label><div class=\"sk-toggleable__content\"><pre>KMeans(n_clusters=5, random_state=42)</pre></div></div></div></div></div>"
      ],
      "text/plain": [
       "KMeans(n_clusters=5, random_state=42)"
      ]
     },
     "execution_count": 8,
     "metadata": {},
     "output_type": "execute_result"
    }
   ],
   "source": [
    "kmeans = KMeans(n_clusters= 5, init='k-means++',random_state= 42)\n",
    "kmeans.fit(X)"
   ]
  },
  {
   "cell_type": "markdown",
   "metadata": {
    "id": "oJKT3MQbbSLw"
   },
   "source": [
    "## Statistics from the initialization run with the lowest SSE are available as attributes of kmeans after calling .fit()"
   ]
  },
  {
   "cell_type": "code",
   "execution_count": 9,
   "metadata": {
    "colab": {
     "base_uri": "https://localhost:8080/"
    },
    "id": "mCfXLl8cbWsn",
    "outputId": "fac4779b-1143-4f40-b9ad-bba2eadb046d"
   },
   "outputs": [
    {
     "data": {
      "text/plain": [
       "367125.6502180615"
      ]
     },
     "execution_count": 9,
     "metadata": {},
     "output_type": "execute_result"
    }
   ],
   "source": [
    "# The lowest SSE value\n",
    "kmeans.inertia_"
   ]
  },
  {
   "cell_type": "code",
   "execution_count": 10,
   "metadata": {
    "colab": {
     "base_uri": "https://localhost:8080/"
    },
    "id": "0rgCQSxMcD8G",
    "outputId": "45b441aa-c05a-4407-b6c4-44c707101d39"
   },
   "outputs": [
    {
     "data": {
      "text/plain": [
       "array([[  9.75      , 136.84615385],\n",
       "       [  9.64583333, 403.4375    ],\n",
       "       [  7.91666667, 617.29166667],\n",
       "       [ 11.34090909, 256.5       ],\n",
       "       [ 10.16129032,  54.79032258]])"
      ]
     },
     "execution_count": 10,
     "metadata": {},
     "output_type": "execute_result"
    }
   ],
   "source": [
    "# Final locations of the centroid\n",
    "kmeans.cluster_centers_"
   ]
  },
  {
   "cell_type": "code",
   "execution_count": 11,
   "metadata": {
    "colab": {
     "base_uri": "https://localhost:8080/"
    },
    "id": "iT1xH23ncOhO",
    "outputId": "9a71097f-4c39-4b59-9b0d-bffa12622aac"
   },
   "outputs": [
    {
     "data": {
      "text/plain": [
       "5"
      ]
     },
     "execution_count": 11,
     "metadata": {},
     "output_type": "execute_result"
    }
   ],
   "source": [
    "# The number of iterations required to converge\n",
    "kmeans.n_iter_"
   ]
  },
  {
   "cell_type": "code",
   "execution_count": 12,
   "metadata": {
    "colab": {
     "base_uri": "https://localhost:8080/"
    },
    "id": "K9SHgzrrccmW",
    "outputId": "ca263466-de9f-4171-96f4-9b0cc6a00e62"
   },
   "outputs": [
    {
     "data": {
      "text/plain": [
       "array([1, 3, 3, 1, 2, 0, 4, 1, 0, 3, 2, 2, 0, 3, 1, 4, 2, 4, 4, 3, 4, 3,\n",
       "       1, 4, 4, 1, 1, 3, 4, 3, 0, 0, 3, 1, 2, 4, 1, 2, 4, 1, 1, 0, 3, 3,\n",
       "       3, 3, 4, 3, 0, 1, 0, 4, 3, 0, 4, 0, 4, 0, 0, 1, 3, 1, 1, 3, 4, 1,\n",
       "       3, 2, 1, 4, 0, 2, 3, 2, 4, 1, 2, 0, 4, 2, 0, 0, 4, 3, 1, 1, 3, 2,\n",
       "       2, 4, 4, 0, 3, 3, 0, 0, 1, 3, 4, 4, 0, 1, 0, 4, 1, 1, 0, 2, 3, 2,\n",
       "       4, 0, 0, 1, 1, 2, 0, 1, 3, 0, 4, 1, 4, 0, 0, 0, 1, 0, 4, 4, 2, 3,\n",
       "       4, 1, 4, 2, 0, 0, 2, 1, 4, 0, 1, 3, 0, 2, 0, 4, 4, 0, 4, 0, 0, 4,\n",
       "       3, 4, 2, 4, 4, 0, 0, 1, 0, 1, 4, 4, 3, 4, 1, 1, 3, 3, 3, 1, 4, 3,\n",
       "       1, 0, 0, 4, 1, 1, 4, 2, 0, 3, 0, 4, 4, 0, 3, 3, 1, 4, 0, 4, 0, 1,\n",
       "       4, 0, 4, 3, 1, 4, 2, 4, 1, 1, 4, 4, 0, 4, 3, 3, 1, 1, 0, 3, 0, 4,\n",
       "       4, 3, 3, 1, 4, 4, 4, 4, 2, 3])"
      ]
     },
     "execution_count": 12,
     "metadata": {},
     "output_type": "execute_result"
    }
   ],
   "source": [
    "#Finally, the cluster assignments are stored as a one-dimensional NumPy array in kmeans.labels_\n",
    "kmeans.labels_"
   ]
  },
  {
   "cell_type": "markdown",
   "metadata": {
    "id": "3pFnFDyJcz72"
   },
   "source": [
    "## Creating Output labels for Generating Graph"
   ]
  },
  {
   "cell_type": "code",
   "execution_count": 13,
   "metadata": {
    "id": "TSeyDA0KdDeE"
   },
   "outputs": [
    {
     "name": "stderr",
     "output_type": "stream",
     "text": [
      "C:\\ProgramData\\anaconda3\\Lib\\site-packages\\sklearn\\cluster\\_kmeans.py:1412: FutureWarning: The default value of `n_init` will change from 10 to 'auto' in 1.4. Set the value of `n_init` explicitly to suppress the warning\n",
      "  super()._check_params_vs_input(X, default_n_init=10)\n",
      "C:\\ProgramData\\anaconda3\\Lib\\site-packages\\sklearn\\cluster\\_kmeans.py:1436: UserWarning: KMeans is known to have a memory leak on Windows with MKL, when there are less chunks than available threads. You can avoid it by setting the environment variable OMP_NUM_THREADS=1.\n",
      "  warnings.warn(\n"
     ]
    }
   ],
   "source": [
    "y_kmeans = kmeans.fit_predict(X)"
   ]
  },
  {
   "cell_type": "code",
   "execution_count": 14,
   "metadata": {
    "colab": {
     "base_uri": "https://localhost:8080/"
    },
    "id": "Li0xJWimW1Im",
    "outputId": "0179db0d-a197-48f3-a060-46d2b9aea3c9"
   },
   "outputs": [
    {
     "name": "stdout",
     "output_type": "stream",
     "text": [
      "[1 3 3 1 2 0 4 1 0 3 2 2 0 3 1 4 2 4 4 3 4 3 1 4 4 1 1 3 4 3 0 0 3 1 2 4 1\n",
      " 2 4 1 1 0 3 3 3 3 4 3 0 1 0 4 3 0 4 0 4 0 0 1 3 1 1 3 4 1 3 2 1 4 0 2 3 2\n",
      " 4 1 2 0 4 2 0 0 4 3 1 1 3 2 2 4 4 0 3 3 0 0 1 3 4 4 0 1 0 4 1 1 0 2 3 2 4\n",
      " 0 0 1 1 2 0 1 3 0 4 1 4 0 0 0 1 0 4 4 2 3 4 1 4 2 0 0 2 1 4 0 1 3 0 2 0 4\n",
      " 4 0 4 0 0 4 3 4 2 4 4 0 0 1 0 1 4 4 3 4 1 1 3 3 3 1 4 3 1 0 0 4 1 1 4 2 0\n",
      " 3 0 4 4 0 3 3 1 4 0 4 0 1 4 0 4 3 1 4 2 4 1 1 4 4 0 4 3 3 1 1 0 3 0 4 4 3\n",
      " 3 1 4 4 4 4 2 3]\n"
     ]
    }
   ],
   "source": [
    "print(y_kmeans)"
   ]
  },
  {
   "cell_type": "markdown",
   "metadata": {
    "id": "e7YrS1JAMFnm"
   },
   "source": [
    "## Visualising the clusters"
   ]
  },
  {
   "cell_type": "code",
   "execution_count": 15,
   "metadata": {
    "colab": {
     "base_uri": "https://localhost:8080/",
     "height": 304
    },
    "id": "u351E057XoBS",
    "outputId": "abfad2fb-19fe-441b-8c5b-f266da6a5419"
   },
   "outputs": [
    {
     "data": {
      "image/png": "[encoded data removed]",
      "text/plain": [
       "<Figure size 640x480 with 1 Axes>"
      ]
     },
     "metadata": {},
     "output_type": "display_data"
    }
   ],
   "source": [
    "plt.scatter(X[y_kmeans == 0,0],X[y_kmeans == 0,1],s=100, c = 'red', label =\"Cluster 1\")\n",
    "plt.scatter(X[y_kmeans == 1,0],X[y_kmeans == 1,1],s=100, c = 'blue', label =\"Cluster 2\")\n",
    "plt.scatter(X[y_kmeans == 2,0],X[y_kmeans == 2,1],s=100, c = 'lightgreen', label =\"Cluster 3\")\n",
    "plt.scatter(X[y_kmeans == 3,0],X[y_kmeans == 3,1],s=100, c = 'black', label =\"Cluster 4\")\n",
    "plt.scatter(X[y_kmeans == 4,0],X[y_kmeans == 4,1],s=100, c = 'magenta', label =\"Cluster 5\")\n",
    "plt.scatter(kmeans.cluster_centers_[:,0],kmeans.cluster_centers_[:,1],s = 300, c = 'Yellow',label = 'Centroids')\n",
    "plt.title(\"Clusters of Customers\",size = 25)\n",
    "plt.xlabel(\"Price\")\n",
    "plt.ylabel(\"Total Amount\")\n",
    "plt.legend()\n",
    "plt.show()"
   ]
  },
  {
   "cell_type": "markdown",
   "metadata": {},
   "source": [
    "#### Test Your Knowledge"
   ]
  },
  {
   "cell_type": "markdown",
   "metadata": {},
   "source": [
    "#### 1. For the model we created in lab session write the following results"
   ]
  },
  {
   "cell_type": "markdown",
   "metadata": {},
   "source": [
    "Optimal cluster Number= 3\n",
    "\n",
    "Cluster Inertia= 367125.6502180615 \n",
    "\n",
    "Cluster Centers= array([[  9.75      , 136.84615385],\n",
    "       [  9.64583333, 403.4375    ],\n",
    "       [  7.91666667, 617.29166667],\n",
    "       [ 11.34090909, 256.5       ],\n",
    "       [ 10.16129032,  54.79032258]])\n",
    "\n",
    "No. of Iteration Required to converge= 5\n",
    "\n",
    "homogeneity_score= 1.0"
   ]
  },
  {
   "cell_type": "markdown",
   "metadata": {},
   "source": [
    "#### 2. Crete the model using following parameter setting and write down the result\n",
    "n_clusters = 5\n",
    "\n",
    "init = random\n",
    "\n",
    "n_init = any number of your choice above 10\n",
    "\n",
    "max_iter = 100 + your roll number\n",
    "\n",
    "tol = 0.00001\n",
    "\n",
    "random_state = any number of your choice"
   ]
  },
  {
   "cell_type": "code",
   "execution_count": 16,
   "metadata": {},
   "outputs": [
    {
     "name": "stderr",
     "output_type": "stream",
     "text": [
      "C:\\ProgramData\\anaconda3\\Lib\\site-packages\\sklearn\\cluster\\_kmeans.py:1436: UserWarning: KMeans is known to have a memory leak on Windows with MKL, when there are less chunks than available threads. You can avoid it by setting the environment variable OMP_NUM_THREADS=1.\n",
      "  warnings.warn(\n"
     ]
    },
    {
     "data": {
      "text/html": [
       "<style>#sk-container-id-2 {color: black;}#sk-container-id-2 pre{padding: 0;}#sk-container-id-2 div.sk-toggleable {background-color: white;}#sk-container-id-2 label.sk-toggleable__label {cursor: pointer;display: block;width: 100%;margin-bottom: 0;padding: 0.3em;box-sizing: border-box;text-align: center;}#sk-container-id-2 label.sk-toggleable__label-arrow:before {content: \"▸\";float: left;margin-right: 0.25em;color: #696969;}#sk-container-id-2 label.sk-toggleable__label-arrow:hover:before {color: black;}#sk-container-id-2 div.sk-estimator:hover label.sk-toggleable__label-arrow:before {color: black;}#sk-container-id-2 div.sk-toggleable__content {max-height: 0;max-width: 0;overflow: hidden;text-align: left;background-color: #f0f8ff;}#sk-container-id-2 div.sk-toggleable__content pre {margin: 0.2em;color: black;border-radius: 0.25em;background-color: #f0f8ff;}#sk-container-id-2 input.sk-toggleable__control:checked~div.sk-toggleable__content {max-height: 200px;max-width: 100%;overflow: auto;}#sk-container-id-2 input.sk-toggleable__control:checked~label.sk-toggleable__label-arrow:before {content: \"▾\";}#sk-container-id-2 div.sk-estimator input.sk-toggleable__control:checked~label.sk-toggleable__label {background-color: #d4ebff;}#sk-container-id-2 div.sk-label input.sk-toggleable__control:checked~label.sk-toggleable__label {background-color: #d4ebff;}#sk-container-id-2 input.sk-hidden--visually {border: 0;clip: rect(1px 1px 1px 1px);clip: rect(1px, 1px, 1px, 1px);height: 1px;margin: -1px;overflow: hidden;padding: 0;position: absolute;width: 1px;}#sk-container-id-2 div.sk-estimator {font-family: monospace;background-color: #f0f8ff;border: 1px dotted black;border-radius: 0.25em;box-sizing: border-box;margin-bottom: 0.5em;}#sk-container-id-2 div.sk-estimator:hover {background-color: #d4ebff;}#sk-container-id-2 div.sk-parallel-item::after {content: \"\";width: 100%;border-bottom: 1px solid gray;flex-grow: 1;}#sk-container-id-2 div.sk-label:hover label.sk-toggleable__label {background-color: #d4ebff;}#sk-container-id-2 div.sk-serial::before {content: \"\";position: absolute;border-left: 1px solid gray;box-sizing: border-box;top: 0;bottom: 0;left: 50%;z-index: 0;}#sk-container-id-2 div.sk-serial {display: flex;flex-direction: column;align-items: center;background-color: white;padding-right: 0.2em;padding-left: 0.2em;position: relative;}#sk-container-id-2 div.sk-item {position: relative;z-index: 1;}#sk-container-id-2 div.sk-parallel {display: flex;align-items: stretch;justify-content: center;background-color: white;position: relative;}#sk-container-id-2 div.sk-item::before, #sk-container-id-2 div.sk-parallel-item::before {content: \"\";position: absolute;border-left: 1px solid gray;box-sizing: border-box;top: 0;bottom: 0;left: 50%;z-index: -1;}#sk-container-id-2 div.sk-parallel-item {display: flex;flex-direction: column;z-index: 1;position: relative;background-color: white;}#sk-container-id-2 div.sk-parallel-item:first-child::after {align-self: flex-end;width: 50%;}#sk-container-id-2 div.sk-parallel-item:last-child::after {align-self: flex-start;width: 50%;}#sk-container-id-2 div.sk-parallel-item:only-child::after {width: 0;}#sk-container-id-2 div.sk-dashed-wrapped {border: 1px dashed gray;margin: 0 0.4em 0.5em 0.4em;box-sizing: border-box;padding-bottom: 0.4em;background-color: white;}#sk-container-id-2 div.sk-label label {font-family: monospace;font-weight: bold;display: inline-block;line-height: 1.2em;}#sk-container-id-2 div.sk-label-container {text-align: center;}#sk-container-id-2 div.sk-container {/* jupyter's `normalize.less` sets `[hidden] { display: none; }` but bootstrap.min.css set `[hidden] { display: none !important; }` so we also need the `!important` here to be able to override the default hidden behavior on the sphinx rendered scikit-learn.org. See: https://github.com/scikit-learn/scikit-learn/issues/21755 */display: inline-block !important;position: relative;}#sk-container-id-2 div.sk-text-repr-fallback {display: none;}</style><div id=\"sk-container-id-2\" class=\"sk-top-container\"><div class=\"sk-text-repr-fallback\"><pre>KMeans(init=&#x27;random&#x27;, max_iter=127, n_clusters=5, n_init=27, random_state=51,\n",
       "       tol=1e-05)</pre><b>In a Jupyter environment, please rerun this cell to show the HTML representation or trust the notebook. <br />On GitHub, the HTML representation is unable to render, please try loading this page with nbviewer.org.</b></div><div class=\"sk-container\" hidden><div class=\"sk-item\"><div class=\"sk-estimator sk-toggleable\"><input class=\"sk-toggleable__control sk-hidden--visually\" id=\"sk-estimator-id-2\" type=\"checkbox\" checked><label for=\"sk-estimator-id-2\" class=\"sk-toggleable__label sk-toggleable__label-arrow\">KMeans</label><div class=\"sk-toggleable__content\"><pre>KMeans(init=&#x27;random&#x27;, max_iter=127, n_clusters=5, n_init=27, random_state=51,\n",
       "       tol=1e-05)</pre></div></div></div></div></div>"
      ],
      "text/plain": [
       "KMeans(init='random', max_iter=127, n_clusters=5, n_init=27, random_state=51,\n",
       "       tol=1e-05)"
      ]
     },
     "execution_count": 16,
     "metadata": {},
     "output_type": "execute_result"
    }
   ],
   "source": [
    "kmeans_1=KMeans(n_clusters=5,init='random',n_init=27, max_iter=127, tol=0.00001, random_state=51)\n",
    "kmeans_1.fit(X)"
   ]
  },
  {
   "cell_type": "markdown",
   "metadata": {},
   "source": [
    "#### Cluster Inertia"
   ]
  },
  {
   "cell_type": "code",
   "execution_count": 17,
   "metadata": {},
   "outputs": [
    {
     "data": {
      "text/plain": [
       "367086.8823953824"
      ]
     },
     "execution_count": 17,
     "metadata": {},
     "output_type": "execute_result"
    }
   ],
   "source": [
    "kmeans_1.inertia_"
   ]
  },
  {
   "cell_type": "markdown",
   "metadata": {},
   "source": [
    "#### Cluster centers"
   ]
  },
  {
   "cell_type": "code",
   "execution_count": 18,
   "metadata": {},
   "outputs": [
    {
     "data": {
      "text/plain": [
       "array([[  9.64583333, 403.4375    ],\n",
       "       [  9.58823529, 137.64705882],\n",
       "       [ 11.34090909, 256.5       ],\n",
       "       [ 10.28571429,  55.44444444],\n",
       "       [  7.91666667, 617.29166667]])"
      ]
     },
     "execution_count": 18,
     "metadata": {},
     "output_type": "execute_result"
    }
   ],
   "source": [
    "kmeans_1.cluster_centers_"
   ]
  },
  {
   "cell_type": "markdown",
   "metadata": {},
   "source": [
    "#### Number of iterations required to converge"
   ]
  },
  {
   "cell_type": "code",
   "execution_count": 19,
   "metadata": {},
   "outputs": [
    {
     "data": {
      "text/plain": [
       "7"
      ]
     },
     "execution_count": 19,
     "metadata": {},
     "output_type": "execute_result"
    }
   ],
   "source": [
    "kmeans_1.n_iter_"
   ]
  },
  {
   "cell_type": "markdown",
   "metadata": {},
   "source": [
    "#### Homogenity_Score"
   ]
  },
  {
   "cell_type": "code",
   "execution_count": 20,
   "metadata": {},
   "outputs": [
    {
     "data": {
      "text/plain": [
       "array([0, 2, 2, 0, 4, 1, 3, 0, 3, 2, 4, 4, 1, 2, 0, 3, 4, 3, 3, 2, 3, 2,\n",
       "       0, 3, 3, 0, 0, 2, 3, 2, 1, 1, 2, 0, 4, 3, 0, 4, 3, 0, 0, 1, 2, 2,\n",
       "       2, 2, 3, 2, 1, 0, 1, 3, 2, 1, 3, 1, 3, 1, 1, 0, 2, 0, 0, 2, 3, 0,\n",
       "       2, 4, 0, 3, 1, 4, 2, 4, 3, 0, 4, 1, 3, 4, 1, 1, 3, 2, 0, 0, 2, 4,\n",
       "       4, 3, 3, 1, 2, 2, 1, 1, 0, 2, 3, 3, 1, 0, 1, 3, 0, 0, 1, 4, 2, 4,\n",
       "       3, 1, 1, 0, 0, 4, 1, 0, 2, 1, 3, 0, 3, 1, 1, 1, 0, 1, 3, 3, 4, 2,\n",
       "       3, 0, 3, 4, 1, 1, 4, 0, 3, 1, 0, 2, 1, 4, 1, 3, 3, 1, 3, 1, 1, 3,\n",
       "       2, 3, 4, 3, 3, 1, 1, 0, 1, 0, 3, 3, 2, 3, 0, 0, 2, 2, 2, 0, 3, 2,\n",
       "       0, 1, 1, 3, 0, 0, 3, 4, 1, 2, 1, 3, 3, 1, 2, 2, 0, 3, 1, 3, 1, 0,\n",
       "       3, 1, 3, 2, 0, 3, 4, 3, 0, 0, 3, 3, 1, 3, 2, 2, 0, 0, 1, 2, 1, 3,\n",
       "       3, 2, 2, 0, 3, 3, 3, 3, 4, 2])"
      ]
     },
     "execution_count": 20,
     "metadata": {},
     "output_type": "execute_result"
    }
   ],
   "source": [
    "kmeans_1.labels_"
   ]
  },
  {
   "cell_type": "code",
   "execution_count": 21,
   "metadata": {},
   "outputs": [
    {
     "name": "stderr",
     "output_type": "stream",
     "text": [
      "C:\\ProgramData\\anaconda3\\Lib\\site-packages\\sklearn\\cluster\\_kmeans.py:1412: FutureWarning: The default value of `n_init` will change from 10 to 'auto' in 1.4. Set the value of `n_init` explicitly to suppress the warning\n",
      "  super()._check_params_vs_input(X, default_n_init=10)\n",
      "C:\\ProgramData\\anaconda3\\Lib\\site-packages\\sklearn\\cluster\\_kmeans.py:1436: UserWarning: KMeans is known to have a memory leak on Windows with MKL, when there are less chunks than available threads. You can avoid it by setting the environment variable OMP_NUM_THREADS=1.\n",
      "  warnings.warn(\n"
     ]
    }
   ],
   "source": [
    "y_means_1=kmeans.fit_predict(X)"
   ]
  },
  {
   "cell_type": "code",
   "execution_count": 30,
   "metadata": {},
   "outputs": [
    {
     "name": "stdout",
     "output_type": "stream",
     "text": [
      "Homogeneity Score=1.0\n"
     ]
    }
   ],
   "source": [
    "from sklearn.metrics import homogeneity_score\n",
    "hs=homogeneity_score(kmeans_1.labels_, y_means)\n",
    "print(\"Homogeneity Score=\",hs)"
   ]
  }
 ],
 "metadata": {
  "colab": {
   "name": "ML Lab 7_ k_means_clustering.ipynb",
   "provenance": []
  },
  "kernelspec": {
   "display_name": "Python 3 (ipykernel)",
   "language": "python",
   "name": "python3"
  },
  "language_info": {
   "codemirror_mode": {
    "name": "ipython",
    "version": 3
   },
   "file_extension": ".py",
   "mimetype": "text/x-python",
   "name": "python",
   "nbconvert_exporter": "python",
   "pygments_lexer": "ipython3",
   "version": "3.11.5"
  }
 },
 "nbformat": 4,
 "nbformat_minor": 1
}
