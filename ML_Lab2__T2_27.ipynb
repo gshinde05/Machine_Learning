{
 "cells": [
  {
   "cell_type": "markdown",
   "id": "38ec8e4f",
   "metadata": {},
   "source": [
    "# LAB 2- Data Preprocessing Tools"
   ]
  },
  {
   "cell_type": "markdown",
   "id": "cf79735a",
   "metadata": {},
   "source": [
    "## Importing Libraries"
   ]
  },
  {
   "cell_type": "code",
   "execution_count": 1,
   "id": "08fefb2c",
   "metadata": {},
   "outputs": [],
   "source": [
    "import numpy as np\n",
    "import pandas as pd\n",
    "import matplotlib.pyplot as plt"
   ]
  },
  {
   "cell_type": "markdown",
   "id": "3b25fed4",
   "metadata": {},
   "source": [
    "## Importing Dataset"
   ]
  },
  {
   "cell_type": "code",
   "execution_count": 2,
   "id": "1f821a4e",
   "metadata": {},
   "outputs": [],
   "source": [
    "dataset = pd.read_csv(\"C:\\\\Users\\\\gauri\\\\Downloads\\\\flights.csv\")"
   ]
  },
  {
   "cell_type": "markdown",
   "id": "98aa8bba",
   "metadata": {},
   "source": [
    "## EDA Steps"
   ]
  },
  {
   "cell_type": "code",
   "execution_count": 3,
   "id": "b4b73829",
   "metadata": {},
   "outputs": [
    {
     "data": {
      "text/html": [
       "<div>\n",
       "<style scoped>\n",
       "    .dataframe tbody tr th:only-of-type {\n",
       "        vertical-align: middle;\n",
       "    }\n",
       "\n",
       "    .dataframe tbody tr th {\n",
       "        vertical-align: top;\n",
       "    }\n",
       "\n",
       "    .dataframe thead th {\n",
       "        text-align: right;\n",
       "    }\n",
       "</style>\n",
       "<table border=\"1\" class=\"dataframe\">\n",
       "  <thead>\n",
       "    <tr style=\"text-align: right;\">\n",
       "      <th></th>\n",
       "      <th>Turbulence_Level</th>\n",
       "      <th>Wind_Speed_Knot</th>\n",
       "      <th>Visibility_km</th>\n",
       "      <th>Status</th>\n",
       "    </tr>\n",
       "  </thead>\n",
       "  <tbody>\n",
       "    <tr>\n",
       "      <th>0</th>\n",
       "      <td>High</td>\n",
       "      <td>45.0</td>\n",
       "      <td>19.0</td>\n",
       "      <td>ok</td>\n",
       "    </tr>\n",
       "    <tr>\n",
       "      <th>1</th>\n",
       "      <td>Low</td>\n",
       "      <td>NaN</td>\n",
       "      <td>6.0</td>\n",
       "      <td>not ok</td>\n",
       "    </tr>\n",
       "    <tr>\n",
       "      <th>2</th>\n",
       "      <td>Medium</td>\n",
       "      <td>48.0</td>\n",
       "      <td>6.0</td>\n",
       "      <td>ok</td>\n",
       "    </tr>\n",
       "    <tr>\n",
       "      <th>3</th>\n",
       "      <td>High</td>\n",
       "      <td>48.0</td>\n",
       "      <td>18.0</td>\n",
       "      <td>not ok</td>\n",
       "    </tr>\n",
       "    <tr>\n",
       "      <th>4</th>\n",
       "      <td>Low</td>\n",
       "      <td>34.0</td>\n",
       "      <td>20.0</td>\n",
       "      <td>ok</td>\n",
       "    </tr>\n",
       "  </tbody>\n",
       "</table>\n",
       "</div>"
      ],
      "text/plain": [
       "  Turbulence_Level  Wind_Speed_Knot  Visibility_km  Status\n",
       "0             High             45.0           19.0      ok\n",
       "1              Low              NaN            6.0  not ok\n",
       "2           Medium             48.0            6.0      ok\n",
       "3             High             48.0           18.0  not ok\n",
       "4              Low             34.0           20.0      ok"
      ]
     },
     "execution_count": 3,
     "metadata": {},
     "output_type": "execute_result"
    }
   ],
   "source": [
    "dataset.head()"
   ]
  },
  {
   "cell_type": "code",
   "execution_count": 4,
   "id": "8eac8cf3",
   "metadata": {},
   "outputs": [
    {
     "data": {
      "text/plain": [
       "(15, 4)"
      ]
     },
     "execution_count": 4,
     "metadata": {},
     "output_type": "execute_result"
    }
   ],
   "source": [
    "dataset.shape"
   ]
  },
  {
   "cell_type": "code",
   "execution_count": 5,
   "id": "ee66bd80",
   "metadata": {},
   "outputs": [
    {
     "data": {
      "text/plain": [
       "Index(['Turbulence_Level', 'Wind_Speed_Knot', 'Visibility_km', 'Status'], dtype='object')"
      ]
     },
     "execution_count": 5,
     "metadata": {},
     "output_type": "execute_result"
    }
   ],
   "source": [
    "dataset.columns"
   ]
  },
  {
   "cell_type": "code",
   "execution_count": 6,
   "id": "043ad040",
   "metadata": {},
   "outputs": [
    {
     "name": "stdout",
     "output_type": "stream",
     "text": [
      "<class 'pandas.core.frame.DataFrame'>\n",
      "RangeIndex: 15 entries, 0 to 14\n",
      "Data columns (total 4 columns):\n",
      " #   Column            Non-Null Count  Dtype  \n",
      "---  ------            --------------  -----  \n",
      " 0   Turbulence_Level  15 non-null     object \n",
      " 1   Wind_Speed_Knot   13 non-null     float64\n",
      " 2   Visibility_km     14 non-null     float64\n",
      " 3   Status            15 non-null     object \n",
      "dtypes: float64(2), object(2)\n",
      "memory usage: 612.0+ bytes\n"
     ]
    }
   ],
   "source": [
    "dataset.info()"
   ]
  },
  {
   "cell_type": "code",
   "execution_count": 7,
   "id": "b4f17f75",
   "metadata": {},
   "outputs": [
    {
     "data": {
      "text/plain": [
       "<bound method NDFrame.describe of    Turbulence_Level  Wind_Speed_Knot  Visibility_km  Status\n",
       "0              High             45.0           19.0      ok\n",
       "1               Low              NaN            6.0  not ok\n",
       "2            Medium             48.0            6.0      ok\n",
       "3              High             48.0           18.0  not ok\n",
       "4               Low             34.0           20.0      ok\n",
       "5            Medium             46.0           15.0      ok\n",
       "6              High             47.0           12.0      ok\n",
       "7               Low             10.0            4.0  not ok\n",
       "8            Medium             29.0           20.0      ok\n",
       "9              High              2.0            7.0      ok\n",
       "10           Medium             15.0           14.0      ok\n",
       "11             High             36.0           11.0      ok\n",
       "12           Medium              NaN            6.0  not ok\n",
       "13           Medium             26.0            NaN  not ok\n",
       "14              Low             40.0           13.0      ok>"
      ]
     },
     "execution_count": 7,
     "metadata": {},
     "output_type": "execute_result"
    }
   ],
   "source": [
    "dataset.describe"
   ]
  },
  {
   "cell_type": "code",
   "execution_count": 8,
   "id": "ea7295db",
   "metadata": {},
   "outputs": [
    {
     "data": {
      "text/html": [
       "<div>\n",
       "<style scoped>\n",
       "    .dataframe tbody tr th:only-of-type {\n",
       "        vertical-align: middle;\n",
       "    }\n",
       "\n",
       "    .dataframe tbody tr th {\n",
       "        vertical-align: top;\n",
       "    }\n",
       "\n",
       "    .dataframe thead th {\n",
       "        text-align: right;\n",
       "    }\n",
       "</style>\n",
       "<table border=\"1\" class=\"dataframe\">\n",
       "  <thead>\n",
       "    <tr style=\"text-align: right;\">\n",
       "      <th></th>\n",
       "      <th>Turbulence_Level</th>\n",
       "      <th>Status</th>\n",
       "    </tr>\n",
       "  </thead>\n",
       "  <tbody>\n",
       "    <tr>\n",
       "      <th>count</th>\n",
       "      <td>15</td>\n",
       "      <td>15</td>\n",
       "    </tr>\n",
       "    <tr>\n",
       "      <th>unique</th>\n",
       "      <td>3</td>\n",
       "      <td>2</td>\n",
       "    </tr>\n",
       "    <tr>\n",
       "      <th>top</th>\n",
       "      <td>Medium</td>\n",
       "      <td>ok</td>\n",
       "    </tr>\n",
       "    <tr>\n",
       "      <th>freq</th>\n",
       "      <td>6</td>\n",
       "      <td>10</td>\n",
       "    </tr>\n",
       "  </tbody>\n",
       "</table>\n",
       "</div>"
      ],
      "text/plain": [
       "       Turbulence_Level Status\n",
       "count                15     15\n",
       "unique                3      2\n",
       "top              Medium     ok\n",
       "freq                  6     10"
      ]
     },
     "execution_count": 8,
     "metadata": {},
     "output_type": "execute_result"
    }
   ],
   "source": [
    "# descriptive statastics for categorical features\n",
    "dataset.describe(include= 'object')"
   ]
  },
  {
   "cell_type": "markdown",
   "id": "6a4f73d1",
   "metadata": {},
   "source": [
    "## Preprocessing Steps"
   ]
  },
  {
   "cell_type": "markdown",
   "id": "63d3c446",
   "metadata": {},
   "source": [
    "### Step 1: Divide Dataframe into independant variable/ input and dependant/ output features"
   ]
  },
  {
   "cell_type": "code",
   "execution_count": 9,
   "id": "dd03b491",
   "metadata": {},
   "outputs": [],
   "source": [
    "X = dataset.iloc [ : , :-1 ]\n",
    "Y = dataset.iloc [ : , -1]"
   ]
  },
  {
   "cell_type": "code",
   "execution_count": 11,
   "id": "8ecd37a0",
   "metadata": {},
   "outputs": [
    {
     "name": "stdout",
     "output_type": "stream",
     "text": [
      "   Turbulence_Level  Wind_Speed_Knot  Visibility_km\n",
      "0              High             45.0           19.0\n",
      "1               Low              NaN            6.0\n",
      "2            Medium             48.0            6.0\n",
      "3              High             48.0           18.0\n",
      "4               Low             34.0           20.0\n",
      "5            Medium             46.0           15.0\n",
      "6              High             47.0           12.0\n",
      "7               Low             10.0            4.0\n",
      "8            Medium             29.0           20.0\n",
      "9              High              2.0            7.0\n",
      "10           Medium             15.0           14.0\n",
      "11             High             36.0           11.0\n",
      "12           Medium              NaN            6.0\n",
      "13           Medium             26.0            NaN\n",
      "14              Low             40.0           13.0\n"
     ]
    }
   ],
   "source": [
    "print(X)"
   ]
  },
  {
   "cell_type": "code",
   "execution_count": 10,
   "id": "569a4292",
   "metadata": {},
   "outputs": [
    {
     "name": "stdout",
     "output_type": "stream",
     "text": [
      "0         ok\n",
      "1     not ok\n",
      "2         ok\n",
      "3     not ok\n",
      "4         ok\n",
      "5         ok\n",
      "6         ok\n",
      "7     not ok\n",
      "8         ok\n",
      "9         ok\n",
      "10        ok\n",
      "11        ok\n",
      "12    not ok\n",
      "13    not ok\n",
      "14        ok\n",
      "Name: Status, dtype: object\n"
     ]
    }
   ],
   "source": [
    "print(Y)"
   ]
  },
  {
   "cell_type": "markdown",
   "id": "9bc4955a",
   "metadata": {},
   "source": [
    "### Step 2: Handle the mising values in dataset"
   ]
  },
  {
   "cell_type": "code",
   "execution_count": 11,
   "id": "ea695edf",
   "metadata": {},
   "outputs": [],
   "source": [
    "from sklearn.impute import SimpleImputer"
   ]
  },
  {
   "cell_type": "code",
   "execution_count": 12,
   "id": "766a48ae",
   "metadata": {},
   "outputs": [],
   "source": [
    "imputer = SimpleImputer(missing_values = np.nan,\n",
    "                       strategy = 'mean')\n",
    "imputer.fit(X.iloc[:,1:3])\n",
    "X.iloc[:,1:3] = imputer.transform(X.iloc[:,1:3])"
   ]
  },
  {
   "cell_type": "code",
   "execution_count": 13,
   "id": "5edf0995",
   "metadata": {},
   "outputs": [
    {
     "name": "stdout",
     "output_type": "stream",
     "text": [
      "   Turbulence_Level  Wind_Speed_Knot  Visibility_km\n",
      "0              High        45.000000      19.000000\n",
      "1               Low        32.769231       6.000000\n",
      "2            Medium        48.000000       6.000000\n",
      "3              High        48.000000      18.000000\n",
      "4               Low        34.000000      20.000000\n",
      "5            Medium        46.000000      15.000000\n",
      "6              High        47.000000      12.000000\n",
      "7               Low        10.000000       4.000000\n",
      "8            Medium        29.000000      20.000000\n",
      "9              High         2.000000       7.000000\n",
      "10           Medium        15.000000      14.000000\n",
      "11             High        36.000000      11.000000\n",
      "12           Medium        32.769231       6.000000\n",
      "13           Medium        26.000000      12.214286\n",
      "14              Low        40.000000      13.000000\n"
     ]
    }
   ],
   "source": [
    "print(X)"
   ]
  },
  {
   "cell_type": "markdown",
   "id": "c058eb65",
   "metadata": {},
   "source": [
    "### Step 3: Encoding Categorical Data"
   ]
  },
  {
   "cell_type": "code",
   "execution_count": 14,
   "id": "a89e2046",
   "metadata": {},
   "outputs": [
    {
     "data": {
      "text/plain": [
       "Turbulence_Level\n",
       "Medium    6\n",
       "High      5\n",
       "Low       4\n",
       "Name: count, dtype: int64"
      ]
     },
     "execution_count": 14,
     "metadata": {},
     "output_type": "execute_result"
    }
   ],
   "source": [
    "dataset['Turbulence_Level'].value_counts()"
   ]
  },
  {
   "cell_type": "code",
   "execution_count": 15,
   "id": "a86b2472",
   "metadata": {},
   "outputs": [
    {
     "data": {
      "text/plain": [
       "Status\n",
       "ok        10\n",
       "not ok     5\n",
       "Name: count, dtype: int64"
      ]
     },
     "execution_count": 15,
     "metadata": {},
     "output_type": "execute_result"
    }
   ],
   "source": [
    "dataset['Status'].value_counts()"
   ]
  },
  {
   "cell_type": "markdown",
   "id": "b1be070d",
   "metadata": {},
   "source": [
    "#### A Encoding the independant variable(i/p Feature/X)\n",
    "#### It has 3 categories So used onehot encoder"
   ]
  },
  {
   "cell_type": "code",
   "execution_count": 16,
   "id": "e9e865b9",
   "metadata": {},
   "outputs": [],
   "source": [
    "from sklearn.compose import ColumnTransformer\n",
    "from sklearn.preprocessing import OneHotEncoder\n",
    "\n",
    "ct = ColumnTransformer(transformers = [('encoder',\n",
    "                                     OneHotEncoder(),\n",
    "                                     [0])],remainder = 'passthrough')\n",
    "X = np.array(ct.fit_transform(X))"
   ]
  },
  {
   "cell_type": "code",
   "execution_count": 17,
   "id": "0b15d0a2",
   "metadata": {},
   "outputs": [
    {
     "name": "stdout",
     "output_type": "stream",
     "text": [
      "[[ 1.          0.          0.         45.         19.        ]\n",
      " [ 0.          1.          0.         32.76923077  6.        ]\n",
      " [ 0.          0.          1.         48.          6.        ]\n",
      " [ 1.          0.          0.         48.         18.        ]\n",
      " [ 0.          1.          0.         34.         20.        ]\n",
      " [ 0.          0.          1.         46.         15.        ]\n",
      " [ 1.          0.          0.         47.         12.        ]\n",
      " [ 0.          1.          0.         10.          4.        ]\n",
      " [ 0.          0.          1.         29.         20.        ]\n",
      " [ 1.          0.          0.          2.          7.        ]\n",
      " [ 0.          0.          1.         15.         14.        ]\n",
      " [ 1.          0.          0.         36.         11.        ]\n",
      " [ 0.          0.          1.         32.76923077  6.        ]\n",
      " [ 0.          0.          1.         26.         12.21428571]\n",
      " [ 0.          1.          0.         40.         13.        ]]\n"
     ]
    }
   ],
   "source": [
    "print(X)"
   ]
  },
  {
   "cell_type": "markdown",
   "id": "0876c706",
   "metadata": {},
   "source": [
    "#### B. Encoding the dependant variable(o/p feature/ target / Y)\n",
    "#### Here it has 2 categories i.e ok, not ok So used Label encoder"
   ]
  },
  {
   "cell_type": "code",
   "execution_count": 18,
   "id": "a545f8ef",
   "metadata": {},
   "outputs": [],
   "source": [
    "from sklearn.preprocessing import LabelEncoder\n",
    "\n",
    "le = LabelEncoder()\n",
    "\n",
    "Y = le.fit_transform(Y)"
   ]
  },
  {
   "cell_type": "code",
   "execution_count": 19,
   "id": "826d7d19",
   "metadata": {},
   "outputs": [
    {
     "name": "stdout",
     "output_type": "stream",
     "text": [
      "[1 0 1 0 1 1 1 0 1 1 1 1 0 0 1]\n"
     ]
    }
   ],
   "source": [
    "print(Y)"
   ]
  },
  {
   "cell_type": "markdown",
   "id": "2358e64c",
   "metadata": {},
   "source": [
    "### Step 4: Splitting data into Training and testing"
   ]
  },
  {
   "cell_type": "code",
   "execution_count": 20,
   "id": "9655d85c",
   "metadata": {},
   "outputs": [],
   "source": [
    "from sklearn.model_selection import train_test_split\n",
    "\n",
    "X_train,X_test,Y_train,Y_test = train_test_split(X,Y,\n",
    "                                        test_size = 0.3,\n",
    "                                    random_state =1)"
   ]
  },
  {
   "cell_type": "code",
   "execution_count": 21,
   "id": "f39224ac",
   "metadata": {},
   "outputs": [
    {
     "name": "stdout",
     "output_type": "stream",
     "text": [
      "[[ 0.          1.          0.         34.         20.        ]\n",
      " [ 0.          1.          0.         32.76923077  6.        ]\n",
      " [ 0.          0.          1.         26.         12.21428571]\n",
      " [ 1.          0.          0.         45.         19.        ]\n",
      " [ 0.          1.          0.         40.         13.        ]\n",
      " [ 1.          0.          0.          2.          7.        ]\n",
      " [ 0.          0.          1.         29.         20.        ]\n",
      " [ 0.          0.          1.         32.76923077  6.        ]\n",
      " [ 1.          0.          0.         36.         11.        ]\n",
      " [ 0.          0.          1.         46.         15.        ]]\n"
     ]
    }
   ],
   "source": [
    "print(X_train)"
   ]
  },
  {
   "cell_type": "code",
   "execution_count": 22,
   "id": "b6263283",
   "metadata": {},
   "outputs": [
    {
     "name": "stdout",
     "output_type": "stream",
     "text": [
      "[[ 1.  0.  0. 48. 18.]\n",
      " [ 0.  1.  0. 10.  4.]\n",
      " [ 1.  0.  0. 47. 12.]\n",
      " [ 0.  0.  1. 48.  6.]\n",
      " [ 0.  0.  1. 15. 14.]]\n"
     ]
    }
   ],
   "source": [
    "print(X_test)"
   ]
  },
  {
   "cell_type": "markdown",
   "id": "b8c32146",
   "metadata": {},
   "source": [
    "### Step 5: Feature Scaling"
   ]
  },
  {
   "cell_type": "code",
   "execution_count": 23,
   "id": "efc8f672",
   "metadata": {},
   "outputs": [],
   "source": [
    "from sklearn.preprocessing import StandardScaler\n",
    "sc = StandardScaler()\n",
    "X_train[:,3:] = sc.fit_transform(X_train[:,3:])\n",
    "X_test[:,3:] = sc.fit_transform(X_test[:,3:])"
   ]
  },
  {
   "cell_type": "code",
   "execution_count": 26,
   "id": "97a6cdd6",
   "metadata": {},
   "outputs": [
    {
     "name": "stdout",
     "output_type": "stream",
     "text": [
      "[[ 1.          0.          0.          0.83216143  1.39707095]\n",
      " [ 0.          1.          0.         -1.36382013 -1.31945589]\n",
      " [ 1.          0.          0.          0.77437245  0.23284516]\n",
      " [ 0.          0.          1.          0.83216143 -0.93138063]\n",
      " [ 0.          0.          1.         -1.07487519  0.62092042]]\n"
     ]
    }
   ],
   "source": [
    "print(X_test)"
   ]
  },
  {
   "cell_type": "markdown",
   "id": "6bba8714",
   "metadata": {},
   "source": [
    "### Q.1 When to use the label encoder and When to use the one hot encoder ?"
   ]
  },
  {
   "cell_type": "code",
   "execution_count": null,
   "id": "31b3971a",
   "metadata": {},
   "outputs": [],
   "source": [
    "Label encoding and one-hot encoding are both techniques used to convert\n",
    "categorical data into a format that can be provided to ML algorithms.  \n",
    "\n",
    "Label Encoding:\n",
    "Use when the categorical feature is ordinal (i.e., there is a meaningful order) or when the number of unique categories \n",
    "is high. Label encoding assigns a unique integer to each category, effectively converting categorical variables into \n",
    "numerical ones. Suitable for algorithms that can interpret ordinal relationships, like decision trees or random forests.\n",
    "However, label encoding may introduce unintended ordinal relationships where none exist. \n",
    "For example, if you encode categories as 0, 1, 2, etc., some algorithms may interpret the numerical \n",
    "difference between categories as meaningful.\n",
    "\n",
    "One-Hot Encoding:\n",
    "Use when the categorical feature is nominal (i.e., there is no meaningful order) or when the number of unique categories \n",
    "is manageable. One-hot encoding creates a binary column for each category and returns a sparse matrix where each row has \n",
    "a single 1 indicating the presence of that category. "
   ]
  },
  {
   "cell_type": "markdown",
   "id": "9c60f7c6",
   "metadata": {},
   "source": [
    "### Q.2 Write a code to Feature Scaling our dataset numerical variable using MinMaxScaler"
   ]
  },
  {
   "cell_type": "code",
   "execution_count": 29,
   "id": "6b3226a7",
   "metadata": {},
   "outputs": [],
   "source": [
    "from sklearn.preprocessing import MinMaxScaler\n",
    "import pandas as pd\n",
    "mmc=MinMaxScaler()\n",
    "X_train[:,3:] = mmc.fit_transform(X_train[:,3:])\n",
    "X_test[:,3:] = mmc.fit_transform(X_test[:,3:])"
   ]
  },
  {
   "cell_type": "code",
   "execution_count": 30,
   "id": "b7fb4514",
   "metadata": {},
   "outputs": [
    {
     "name": "stdout",
     "output_type": "stream",
     "text": [
      "[[1.         0.         0.         1.         1.        ]\n",
      " [0.         1.         0.         0.         0.        ]\n",
      " [1.         0.         0.         0.97368421 0.57142857]\n",
      " [0.         0.         1.         1.         0.14285714]\n",
      " [0.         0.         1.         0.13157895 0.71428571]]\n"
     ]
    }
   ],
   "source": [
    "print(X_test)"
   ]
  },
  {
   "cell_type": "markdown",
   "id": "cdeef64d",
   "metadata": {},
   "source": [
    "### Q.3. For the below student dataset remove missing values from column ‘gender’ and ‘marks’\n",
    "###### import pandas as pd\n",
    "###### import numpy as np\n",
    "###### students = [[85, 'M', 'verygood'],\n",
    "###### [95, 'F', 'excellent'],\n",
    "###### [75, None,'good'],\n",
    "###### [np.NaN, 'M', 'average'],\n",
    "###### [70, 'M', 'good'],\n",
    "###### [np.NaN, None, 'verygood'],\n",
    "###### [92, 'F', 'verygood'],\n",
    "###### [98, 'M', 'excellent']]\n",
    "###### dfstd = pd.DataFrame(students)\n",
    "###### dfstd.columns = ['marks', 'gender', 'result']"
   ]
  },
  {
   "cell_type": "code",
   "execution_count": 31,
   "id": "4b68cd5d",
   "metadata": {},
   "outputs": [
    {
     "name": "stdout",
     "output_type": "stream",
     "text": [
      "   marks gender     result\n",
      "0   85.0      M   verygood\n",
      "1   95.0      F  excellent\n",
      "4   70.0      M       good\n",
      "6   92.0      F   verygood\n",
      "7   98.0      M  excellent\n"
     ]
    }
   ],
   "source": [
    "import pandas as pd\n",
    "import numpy as np\n",
    "\n",
    "students = [\n",
    "    [85, 'M', 'verygood'],\n",
    "    [95, 'F', 'excellent'],\n",
    "    [75, None, 'good'],\n",
    "    [np.NaN, 'M', 'average'],\n",
    "    [70, 'M', 'good'],\n",
    "    [np.NaN, None, 'verygood'],\n",
    "    [92, 'F', 'verygood'],\n",
    "    [98, 'M', 'excellent']\n",
    "]\n",
    "\n",
    "dfstd = pd.DataFrame(students)\n",
    "dfstd.columns = ['marks', 'gender', 'result']\n",
    "\n",
    "# Remove missing values from 'gender' and 'marks' columns\n",
    "dfstd_cleaned = dfstd.dropna(subset=['gender', 'marks'])\n",
    "\n",
    "print(dfstd_cleaned)\n"
   ]
  },
  {
   "cell_type": "code",
   "execution_count": 32,
   "id": "acf39223",
   "metadata": {},
   "outputs": [
    {
     "name": "stdout",
     "output_type": "stream",
     "text": [
      "   marks gender     result\n",
      "0   85.0      M   verygood\n",
      "1   95.0      F  excellent\n",
      "2   75.0    NaN       good\n",
      "3    NaN      M    average\n",
      "4   70.0      M       good\n",
      "5    NaN    NaN   verygood\n",
      "6   92.0      F   verygood\n",
      "7   98.0      M  excellent\n"
     ]
    }
   ],
   "source": [
    "import pandas as pd\n",
    "import numpy as np\n",
    "\n",
    "students = [\n",
    "    [85, 'M', 'verygood'],\n",
    "    [95, 'F', 'excellent'],\n",
    "    [75, None, 'good'],\n",
    "    [np.NaN, 'M', 'average'],\n",
    "    [70, 'M', 'good'],\n",
    "    [np.NaN, None, 'verygood'],\n",
    "    [92, 'F', 'verygood'],\n",
    "    [98, 'M', 'excellent']\n",
    "]\n",
    "\n",
    "dfstd = pd.DataFrame(students)\n",
    "dfstd.columns = ['marks', 'gender', 'result']\n",
    "\n",
    "# Convert 'gender' and 'result' columns to category type\n",
    "dfstd['gender'] = dfstd['gender'].astype('category')\n",
    "dfstd['result'] = dfstd['result'].astype('category')\n",
    "\n",
    "# Display the encoded DataFrame\n",
    "print(dfstd)"
   ]
  },
  {
   "cell_type": "code",
   "execution_count": null,
   "id": "2192ec84",
   "metadata": {},
   "outputs": [],
   "source": []
  }
 ],
 "metadata": {
  "kernelspec": {
   "display_name": "Python 3 (ipykernel)",
   "language": "python",
   "name": "python3"
  },
  "language_info": {
   "codemirror_mode": {
    "name": "ipython",
    "version": 3
   },
   "file_extension": ".py",
   "mimetype": "text/x-python",
   "name": "python",
   "nbconvert_exporter": "python",
   "pygments_lexer": "ipython3",
   "version": "3.11.5"
  }
 },
 "nbformat": 4,
 "nbformat_minor": 5
}
