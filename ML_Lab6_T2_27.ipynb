{
 "cells": [
  {
   "cell_type": "markdown",
   "metadata": {
    "id": "0MRC0e0KhQ0S"
   },
   "source": [
    "# Support Vector Machine (SVM)"
   ]
  },
  {
   "cell_type": "markdown",
   "metadata": {
    "id": "LWd1UlMnhT2s"
   },
   "source": [
    "## Importing the libraries"
   ]
  },
  {
   "cell_type": "code",
   "execution_count": 1,
   "metadata": {
    "colab": {
     "base_uri": "https://localhost:8080/"
    },
    "id": "QcGJV9USDDz1",
    "outputId": "2c5747b5-aaae-47ef-ed78-a435a62e168a"
   },
   "outputs": [
    {
     "name": "stdout",
     "output_type": "stream",
     "text": [
      "%pylab is deprecated, use %matplotlib inline and import the required libraries.\n",
      "Populating the interactive namespace from numpy and matplotlib\n"
     ]
    }
   ],
   "source": [
    "import numpy as np\n",
    "import matplotlib.pyplot as plt\n",
    "import pandas as pd\n",
    "from sklearn import datasets\n",
    "%pylab inline\n",
    "pylab.rcParams['figure.figsize'] = (10, 6)\n"
   ]
  },
  {
   "cell_type": "markdown",
   "metadata": {
    "id": "K1VMqkGvhc3-"
   },
   "source": [
    "## Importing the dataset"
   ]
  },
  {
   "cell_type": "code",
   "execution_count": 2,
   "metadata": {
    "colab": {
     "base_uri": "https://localhost:8080/"
    },
    "id": "FbjkyjfpDQMP",
    "outputId": "e56f0254-75b3-45d8-879d-e9f3f6f9f4c3"
   },
   "outputs": [
    {
     "name": "stdout",
     "output_type": "stream",
     "text": [
      "{'data': array([[1.423e+01, 1.710e+00, 2.430e+00, ..., 1.040e+00, 3.920e+00,\n",
      "        1.065e+03],\n",
      "       [1.320e+01, 1.780e+00, 2.140e+00, ..., 1.050e+00, 3.400e+00,\n",
      "        1.050e+03],\n",
      "       [1.316e+01, 2.360e+00, 2.670e+00, ..., 1.030e+00, 3.170e+00,\n",
      "        1.185e+03],\n",
      "       ...,\n",
      "       [1.327e+01, 4.280e+00, 2.260e+00, ..., 5.900e-01, 1.560e+00,\n",
      "        8.350e+02],\n",
      "       [1.317e+01, 2.590e+00, 2.370e+00, ..., 6.000e-01, 1.620e+00,\n",
      "        8.400e+02],\n",
      "       [1.413e+01, 4.100e+00, 2.740e+00, ..., 6.100e-01, 1.600e+00,\n",
      "        5.600e+02]]), 'target': array([0, 0, 0, 0, 0, 0, 0, 0, 0, 0, 0, 0, 0, 0, 0, 0, 0, 0, 0, 0, 0, 0,\n",
      "       0, 0, 0, 0, 0, 0, 0, 0, 0, 0, 0, 0, 0, 0, 0, 0, 0, 0, 0, 0, 0, 0,\n",
      "       0, 0, 0, 0, 0, 0, 0, 0, 0, 0, 0, 0, 0, 0, 0, 1, 1, 1, 1, 1, 1, 1,\n",
      "       1, 1, 1, 1, 1, 1, 1, 1, 1, 1, 1, 1, 1, 1, 1, 1, 1, 1, 1, 1, 1, 1,\n",
      "       1, 1, 1, 1, 1, 1, 1, 1, 1, 1, 1, 1, 1, 1, 1, 1, 1, 1, 1, 1, 1, 1,\n",
      "       1, 1, 1, 1, 1, 1, 1, 1, 1, 1, 1, 1, 1, 1, 1, 1, 1, 1, 1, 1, 2, 2,\n",
      "       2, 2, 2, 2, 2, 2, 2, 2, 2, 2, 2, 2, 2, 2, 2, 2, 2, 2, 2, 2, 2, 2,\n",
      "       2, 2, 2, 2, 2, 2, 2, 2, 2, 2, 2, 2, 2, 2, 2, 2, 2, 2, 2, 2, 2, 2,\n",
      "       2, 2]), 'frame': None, 'target_names': array(['class_0', 'class_1', 'class_2'], dtype='<U7'), 'DESCR': '.. _wine_dataset:\\n\\nWine recognition dataset\\n------------------------\\n\\n**Data Set Characteristics:**\\n\\n    :Number of Instances: 178\\n    :Number of Attributes: 13 numeric, predictive attributes and the class\\n    :Attribute Information:\\n \\t\\t- Alcohol\\n \\t\\t- Malic acid\\n \\t\\t- Ash\\n\\t\\t- Alcalinity of ash  \\n \\t\\t- Magnesium\\n\\t\\t- Total phenols\\n \\t\\t- Flavanoids\\n \\t\\t- Nonflavanoid phenols\\n \\t\\t- Proanthocyanins\\n\\t\\t- Color intensity\\n \\t\\t- Hue\\n \\t\\t- OD280/OD315 of diluted wines\\n \\t\\t- Proline\\n\\n    - class:\\n            - class_0\\n            - class_1\\n            - class_2\\n\\t\\t\\n    :Summary Statistics:\\n    \\n    ============================= ==== ===== ======= =====\\n                                   Min   Max   Mean     SD\\n    ============================= ==== ===== ======= =====\\n    Alcohol:                      11.0  14.8    13.0   0.8\\n    Malic Acid:                   0.74  5.80    2.34  1.12\\n    Ash:                          1.36  3.23    2.36  0.27\\n    Alcalinity of Ash:            10.6  30.0    19.5   3.3\\n    Magnesium:                    70.0 162.0    99.7  14.3\\n    Total Phenols:                0.98  3.88    2.29  0.63\\n    Flavanoids:                   0.34  5.08    2.03  1.00\\n    Nonflavanoid Phenols:         0.13  0.66    0.36  0.12\\n    Proanthocyanins:              0.41  3.58    1.59  0.57\\n    Colour Intensity:              1.3  13.0     5.1   2.3\\n    Hue:                          0.48  1.71    0.96  0.23\\n    OD280/OD315 of diluted wines: 1.27  4.00    2.61  0.71\\n    Proline:                       278  1680     746   315\\n    ============================= ==== ===== ======= =====\\n\\n    :Missing Attribute Values: None\\n    :Class Distribution: class_0 (59), class_1 (71), class_2 (48)\\n    :Creator: R.A. Fisher\\n    :Donor: Michael Marshall (MARSHALL%PLU@io.arc.nasa.gov)\\n    :Date: July, 1988\\n\\nThis is a copy of UCI ML Wine recognition datasets.\\nhttps://archive.ics.uci.edu/ml/machine-learning-databases/wine/wine.data\\n\\nThe data is the results of a chemical analysis of wines grown in the same\\nregion in Italy by three different cultivators. There are thirteen different\\nmeasurements taken for different constituents found in the three types of\\nwine.\\n\\nOriginal Owners: \\n\\nForina, M. et al, PARVUS - \\nAn Extendible Package for Data Exploration, Classification and Correlation. \\nInstitute of Pharmaceutical and Food Analysis and Technologies,\\nVia Brigata Salerno, 16147 Genoa, Italy.\\n\\nCitation:\\n\\nLichman, M. (2013). UCI Machine Learning Repository\\n[https://archive.ics.uci.edu/ml]. Irvine, CA: University of California,\\nSchool of Information and Computer Science. \\n\\n.. topic:: References\\n\\n  (1) S. Aeberhard, D. Coomans and O. de Vel, \\n  Comparison of Classifiers in High Dimensional Settings, \\n  Tech. Rep. no. 92-02, (1992), Dept. of Computer Science and Dept. of  \\n  Mathematics and Statistics, James Cook University of North Queensland. \\n  (Also submitted to Technometrics). \\n\\n  The data was used with many others for comparing various \\n  classifiers. The classes are separable, though only RDA \\n  has achieved 100% correct classification. \\n  (RDA : 100%, QDA 99.4%, LDA 98.9%, 1NN 96.1% (z-transformed data)) \\n  (All results using the leave-one-out technique) \\n\\n  (2) S. Aeberhard, D. Coomans and O. de Vel, \\n  \"THE CLASSIFICATION PERFORMANCE OF RDA\" \\n  Tech. Rep. no. 92-01, (1992), Dept. of Computer Science and Dept. of \\n  Mathematics and Statistics, James Cook University of North Queensland. \\n  (Also submitted to Journal of Chemometrics).\\n', 'feature_names': ['alcohol', 'malic_acid', 'ash', 'alcalinity_of_ash', 'magnesium', 'total_phenols', 'flavanoids', 'nonflavanoid_phenols', 'proanthocyanins', 'color_intensity', 'hue', 'od280/od315_of_diluted_wines', 'proline']}\n"
     ]
    }
   ],
   "source": [
    "wine = datasets.load_wine()\n",
    "print(wine)\n",
    "X = wine.data[:, :]\n",
    "y = wine.target\n"
   ]
  },
  {
   "cell_type": "markdown",
   "metadata": {
    "id": "WCBaY8ZjtwCs"
   },
   "source": [
    "## Exploratory Data Analysis\n",
    "###  Place the iris data into a pandas dataframe"
   ]
  },
  {
   "cell_type": "code",
   "execution_count": 3,
   "metadata": {
    "colab": {
     "base_uri": "https://localhost:8080/"
    },
    "id": "pPezcZGKt-Fx",
    "outputId": "784a0fee-b557-4df6-b2d3-71ee360751c4"
   },
   "outputs": [
    {
     "name": "stdout",
     "output_type": "stream",
     "text": [
      "   alcohol  malic_acid   ash  alcalinity_of_ash  magnesium  total_phenols  \\\n",
      "0    14.23        1.71  2.43               15.6      127.0           2.80   \n",
      "1    13.20        1.78  2.14               11.2      100.0           2.65   \n",
      "2    13.16        2.36  2.67               18.6      101.0           2.80   \n",
      "3    14.37        1.95  2.50               16.8      113.0           3.85   \n",
      "4    13.24        2.59  2.87               21.0      118.0           2.80   \n",
      "\n",
      "   flavanoids  nonflavanoid_phenols  proanthocyanins  color_intensity   hue  \\\n",
      "0        3.06                  0.28             2.29             5.64  1.04   \n",
      "1        2.76                  0.26             1.28             4.38  1.05   \n",
      "2        3.24                  0.30             2.81             5.68  1.03   \n",
      "3        3.49                  0.24             2.18             7.80  0.86   \n",
      "4        2.69                  0.39             1.82             4.32  1.04   \n",
      "\n",
      "   od280/od315_of_diluted_wines  proline  \n",
      "0                          3.92   1065.0  \n",
      "1                          3.40   1050.0  \n",
      "2                          3.17   1185.0  \n",
      "3                          3.45   1480.0  \n",
      "4                          2.93    735.0  \n",
      "\n",
      "The unique labels in this data are [0 1 2]\n"
     ]
    }
   ],
   "source": [
    "wine_df = pd.DataFrame(wine.data[:,:], columns=wine.feature_names[:])\n",
    "\n",
    "# View the first 5 rows of the data\n",
    "print(wine_df.head())\n",
    "\n",
    "# Print the unique labels of the dataset\n",
    "print('\\n' + 'The unique labels in this data are ' + str(np.unique(y)))\n"
   ]
  },
  {
   "cell_type": "code",
   "execution_count": 4,
   "metadata": {},
   "outputs": [
    {
     "name": "stdout",
     "output_type": "stream",
     "text": [
      "<class 'pandas.core.frame.DataFrame'>\n",
      "RangeIndex: 178 entries, 0 to 177\n",
      "Data columns (total 13 columns):\n",
      " #   Column                        Non-Null Count  Dtype  \n",
      "---  ------                        --------------  -----  \n",
      " 0   alcohol                       178 non-null    float64\n",
      " 1   malic_acid                    178 non-null    float64\n",
      " 2   ash                           178 non-null    float64\n",
      " 3   alcalinity_of_ash             178 non-null    float64\n",
      " 4   magnesium                     178 non-null    float64\n",
      " 5   total_phenols                 178 non-null    float64\n",
      " 6   flavanoids                    178 non-null    float64\n",
      " 7   nonflavanoid_phenols          178 non-null    float64\n",
      " 8   proanthocyanins               178 non-null    float64\n",
      " 9   color_intensity               178 non-null    float64\n",
      " 10  hue                           178 non-null    float64\n",
      " 11  od280/od315_of_diluted_wines  178 non-null    float64\n",
      " 12  proline                       178 non-null    float64\n",
      "dtypes: float64(13)\n",
      "memory usage: 18.2 KB\n"
     ]
    }
   ],
   "source": [
    "wine_df.info()"
   ]
  },
  {
   "cell_type": "markdown",
   "metadata": {
    "id": "YvxIPVyMhmKp"
   },
   "source": [
    "## Splitting the dataset into the Training set and Test set"
   ]
  },
  {
   "cell_type": "code",
   "execution_count": 5,
   "metadata": {
    "colab": {
     "base_uri": "https://localhost:8080/"
    },
    "id": "h4J041D2DmFS",
    "outputId": "869b8e6e-9f0b-4f96-a0b6-9f6d23dca427"
   },
   "outputs": [
    {
     "name": "stdout",
     "output_type": "stream",
     "text": [
      "There are 133 samples in the training set and 45 samples in the test set\n"
     ]
    }
   ],
   "source": [
    "from sklearn.model_selection import train_test_split\n",
    "\n",
    "X_train, X_test, y_train, y_test = train_test_split(X, y, test_size=.25, random_state=0)\n",
    "\n",
    "print('There are {} samples in the training set and {} samples in the test set'.format(\n",
    "X_train.shape[0], X_test.shape[0]))\n"
   ]
  },
  {
   "cell_type": "markdown",
   "metadata": {
    "id": "kW3c7UYih0hT"
   },
   "source": [
    "## Feature Scaling"
   ]
  },
  {
   "cell_type": "code",
   "execution_count": 6,
   "metadata": {
    "colab": {
     "base_uri": "https://localhost:8080/"
    },
    "id": "CxM1EfAhEMcc",
    "outputId": "6685005d-57d0-4fcf-ad0b-f9e39efcdde1"
   },
   "outputs": [
    {
     "name": "stdout",
     "output_type": "stream",
     "text": [
      "After standardizing our features, the first 5 rows of our data now look like this:\n",
      "\n",
      "    alcohol  malic_acid       ash  alcalinity_of_ash  magnesium  \\\n",
      "0  0.799969    0.634004  0.717833          -1.227784   1.076995   \n",
      "1 -0.498760    0.061720 -0.610727          -0.288160  -0.447576   \n",
      "2 -1.297977   -1.163326 -0.241683           0.423677   0.037515   \n",
      "3 -0.935832    1.331475 -0.610727          -0.288160   0.799801   \n",
      "4  1.624162   -0.421145  1.308304           0.138942   1.354190   \n",
      "\n",
      "   total_phenols  flavanoids  nonflavanoid_phenols  proanthocyanins  \\\n",
      "0       0.717575    1.093799             -1.522752         0.084380   \n",
      "1      -1.050089   -1.321955              2.088177        -1.118040   \n",
      "2       1.830549    0.186617             -1.836746         0.067680   \n",
      "3      -1.442903   -1.199639             -0.580770        -0.784034   \n",
      "4       0.881248    1.205923             -0.266777         0.602089   \n",
      "\n",
      "   color_intensity       hue  od280/od315_of_diluted_wines   proline  \n",
      "0        -0.005460  0.054456                      1.071328  0.315005  \n",
      "1         0.829212 -0.934736                     -1.392497 -0.181389  \n",
      "2        -0.794224  0.183481                      0.752968  0.450685  \n",
      "3         1.292454 -1.278802                     -0.811145  0.348097  \n",
      "4         0.453609  0.527547                      0.088566  1.754545  \n"
     ]
    }
   ],
   "source": [
    "from sklearn.preprocessing import StandardScaler\n",
    "\n",
    "sc = StandardScaler()\n",
    "\n",
    "sc.fit(X_train)\n",
    "\n",
    "X_train_std = sc.transform(X_train)\n",
    "X_test_std = sc.transform(X_test)\n",
    "\n",
    "print('After standardizing our features, the first 5 rows of our data now look like this:\\n')\n",
    "print(pd.DataFrame(X_train_std, columns=wine_df.columns).head())\n"
   ]
  },
  {
   "cell_type": "markdown",
   "metadata": {
    "id": "bb6jCOCQiAmP"
   },
   "source": [
    "## Training the SVM model on the Training set"
   ]
  },
  {
   "cell_type": "code",
   "execution_count": 7,
   "metadata": {
    "colab": {
     "base_uri": "https://localhost:8080/"
    },
    "id": "4gfoRtrkEl9g",
    "outputId": "0a26d9b6-fddb-463b-bf7c-0190d034e65c"
   },
   "outputs": [
    {
     "data": {
      "text/html": [
       "<style>#sk-container-id-1 {color: black;}#sk-container-id-1 pre{padding: 0;}#sk-container-id-1 div.sk-toggleable {background-color: white;}#sk-container-id-1 label.sk-toggleable__label {cursor: pointer;display: block;width: 100%;margin-bottom: 0;padding: 0.3em;box-sizing: border-box;text-align: center;}#sk-container-id-1 label.sk-toggleable__label-arrow:before {content: \"▸\";float: left;margin-right: 0.25em;color: #696969;}#sk-container-id-1 label.sk-toggleable__label-arrow:hover:before {color: black;}#sk-container-id-1 div.sk-estimator:hover label.sk-toggleable__label-arrow:before {color: black;}#sk-container-id-1 div.sk-toggleable__content {max-height: 0;max-width: 0;overflow: hidden;text-align: left;background-color: #f0f8ff;}#sk-container-id-1 div.sk-toggleable__content pre {margin: 0.2em;color: black;border-radius: 0.25em;background-color: #f0f8ff;}#sk-container-id-1 input.sk-toggleable__control:checked~div.sk-toggleable__content {max-height: 200px;max-width: 100%;overflow: auto;}#sk-container-id-1 input.sk-toggleable__control:checked~label.sk-toggleable__label-arrow:before {content: \"▾\";}#sk-container-id-1 div.sk-estimator input.sk-toggleable__control:checked~label.sk-toggleable__label {background-color: #d4ebff;}#sk-container-id-1 div.sk-label input.sk-toggleable__control:checked~label.sk-toggleable__label {background-color: #d4ebff;}#sk-container-id-1 input.sk-hidden--visually {border: 0;clip: rect(1px 1px 1px 1px);clip: rect(1px, 1px, 1px, 1px);height: 1px;margin: -1px;overflow: hidden;padding: 0;position: absolute;width: 1px;}#sk-container-id-1 div.sk-estimator {font-family: monospace;background-color: #f0f8ff;border: 1px dotted black;border-radius: 0.25em;box-sizing: border-box;margin-bottom: 0.5em;}#sk-container-id-1 div.sk-estimator:hover {background-color: #d4ebff;}#sk-container-id-1 div.sk-parallel-item::after {content: \"\";width: 100%;border-bottom: 1px solid gray;flex-grow: 1;}#sk-container-id-1 div.sk-label:hover label.sk-toggleable__label {background-color: #d4ebff;}#sk-container-id-1 div.sk-serial::before {content: \"\";position: absolute;border-left: 1px solid gray;box-sizing: border-box;top: 0;bottom: 0;left: 50%;z-index: 0;}#sk-container-id-1 div.sk-serial {display: flex;flex-direction: column;align-items: center;background-color: white;padding-right: 0.2em;padding-left: 0.2em;position: relative;}#sk-container-id-1 div.sk-item {position: relative;z-index: 1;}#sk-container-id-1 div.sk-parallel {display: flex;align-items: stretch;justify-content: center;background-color: white;position: relative;}#sk-container-id-1 div.sk-item::before, #sk-container-id-1 div.sk-parallel-item::before {content: \"\";position: absolute;border-left: 1px solid gray;box-sizing: border-box;top: 0;bottom: 0;left: 50%;z-index: -1;}#sk-container-id-1 div.sk-parallel-item {display: flex;flex-direction: column;z-index: 1;position: relative;background-color: white;}#sk-container-id-1 div.sk-parallel-item:first-child::after {align-self: flex-end;width: 50%;}#sk-container-id-1 div.sk-parallel-item:last-child::after {align-self: flex-start;width: 50%;}#sk-container-id-1 div.sk-parallel-item:only-child::after {width: 0;}#sk-container-id-1 div.sk-dashed-wrapped {border: 1px dashed gray;margin: 0 0.4em 0.5em 0.4em;box-sizing: border-box;padding-bottom: 0.4em;background-color: white;}#sk-container-id-1 div.sk-label label {font-family: monospace;font-weight: bold;display: inline-block;line-height: 1.2em;}#sk-container-id-1 div.sk-label-container {text-align: center;}#sk-container-id-1 div.sk-container {/* jupyter's `normalize.less` sets `[hidden] { display: none; }` but bootstrap.min.css set `[hidden] { display: none !important; }` so we also need the `!important` here to be able to override the default hidden behavior on the sphinx rendered scikit-learn.org. See: https://github.com/scikit-learn/scikit-learn/issues/21755 */display: inline-block !important;position: relative;}#sk-container-id-1 div.sk-text-repr-fallback {display: none;}</style><div id=\"sk-container-id-1\" class=\"sk-top-container\"><div class=\"sk-text-repr-fallback\"><pre>SVC(gamma=&#x27;auto&#x27;, random_state=0)</pre><b>In a Jupyter environment, please rerun this cell to show the HTML representation or trust the notebook. <br />On GitHub, the HTML representation is unable to render, please try loading this page with nbviewer.org.</b></div><div class=\"sk-container\" hidden><div class=\"sk-item\"><div class=\"sk-estimator sk-toggleable\"><input class=\"sk-toggleable__control sk-hidden--visually\" id=\"sk-estimator-id-1\" type=\"checkbox\" checked><label for=\"sk-estimator-id-1\" class=\"sk-toggleable__label sk-toggleable__label-arrow\">SVC</label><div class=\"sk-toggleable__content\"><pre>SVC(gamma=&#x27;auto&#x27;, random_state=0)</pre></div></div></div></div></div>"
      ],
      "text/plain": [
       "SVC(gamma='auto', random_state=0)"
      ]
     },
     "execution_count": 7,
     "metadata": {},
     "output_type": "execute_result"
    }
   ],
   "source": [
    "from sklearn.svm import SVC\n",
    "\n",
    "svm = SVC(kernel='rbf', random_state=0, gamma='auto', C=1.0)\n",
    "svm.fit(X_train_std, y_train)\n"
   ]
  },
  {
   "cell_type": "markdown",
   "metadata": {},
   "source": [
    "### Dispplay the support Vectors of model"
   ]
  },
  {
   "cell_type": "code",
   "execution_count": 8,
   "metadata": {},
   "outputs": [
    {
     "name": "stdout",
     "output_type": "stream",
     "text": [
      "Support Vector for model are : [[ 3.75384367e-01 -5.99983912e-01 -8.32153710e-01 -7.15261889e-01\n",
      "  -4.47575682e-01  2.26557322e-01  2.37582551e-01 -7.37767359e-01\n",
      "  -4.33328276e-01 -4.85395973e-01  3.12505585e-01  2.54666687e-01\n",
      "   1.77109171e+00]\n",
      " [ 3.00457722e-01  1.42089422e+00 -2.78586970e-01 -5.72894587e-01\n",
      "   1.76112434e-01  6.19371537e-01  6.86077097e-01 -3.45275124e-01\n",
      "   8.43803539e-02 -3.14288322e-01 -5.47660864e-01  5.73026063e-01\n",
      "  -2.31028190e-01]\n",
      " [ 6.31900147e-02 -5.91041973e-01 -1.20119820e+00 -2.02504107e+00\n",
      "  -5.86173041e-01  7.50309609e-01  1.33843280e+00 -1.52275183e+00\n",
      "   2.17191515e+00  8.70945165e-01  7.42588810e-01  4.48450655e-01\n",
      "   1.32433768e+00]\n",
      " [ 2.18611161e+00 -5.91041973e-01  9.04575223e-02 -2.30977567e+00\n",
      "  -6.55471720e-01  1.37226545e+00  1.76654123e+00  5.18207793e-01\n",
      "   2.00491237e+00  1.19740843e-01  1.30169700e+00  1.99299839e-01\n",
      "   1.32433768e+00]\n",
      " [-1.86565467e-01 -7.07287176e-01  5.70215363e-01 -4.87474206e-01\n",
      "  -3.78277002e-01  3.57495393e-01  4.21057593e-01 -8.16265806e-01\n",
      "  -2.49625214e-01 -4.93742688e-01  6.13563842e-01  1.44505392e+00\n",
      "   8.77583657e-01]\n",
      " [ 1.32445520e+00 -6.80461360e-01 -3.15491420e-01 -9.99996494e-01\n",
      "   1.76998206e+00  1.20859286e+00  1.23650222e+00 -9.73262700e-01\n",
      "   8.19192603e-01  2.24074776e-01  6.13563842e-01  1.55578762e+00\n",
      "   9.99007197e-02]\n",
      " [ 1.71157619e+00 -3.94319324e-01  4.96406464e-01 -7.72208810e-01\n",
      "   8.69099228e-01  2.59980987e+00  1.56268007e+00 -9.73262700e-01\n",
      "   9.52794830e-01  1.12134661e+00 -3.75627574e-01  1.19590310e+00\n",
      "   2.41640309e+00]\n",
      " [ 1.72406397e+00 -4.65854833e-01  5.35530730e-02 -2.13893491e+00\n",
      "   1.06813754e-01  1.69961063e+00  1.71557594e+00 -5.80770465e-01\n",
      "   2.25541654e+00  9.96145886e-01  1.08665539e+00  5.73026063e-01\n",
      "   2.63812546e+00]\n",
      " [ 6.00164300e-01 -5.19506464e-01  1.64266421e-01  2.81309226e-01\n",
      "  -3.17836049e-02  7.17575091e-01  1.04283412e+00 -8.16265806e-01\n",
      "   4.18385922e-01 -5.45987790e-03  3.98522230e-01  1.22358653e+00\n",
      "   5.63201193e-01]\n",
      " [ 5.12749882e-01  1.29570708e+00 -9.05962608e-01 -2.02739602e-01\n",
      "  -7.24770399e-01  3.08393616e-01  7.37042386e-01 -7.37767359e-01\n",
      "  -2.16224657e-01 -3.47675180e-01 -1.60585962e-01  5.73026063e-01\n",
      "   9.43769439e-01]\n",
      " [ 8.81655629e-02 -7.96706562e-01 -9.79771507e-01 -1.14236380e+00\n",
      "  -1.70380964e-01  2.26557322e-01  6.96270155e-01 -6.59268912e-01\n",
      "  -3.99927719e-01 -5.89729907e-01  1.00063874e+00  1.43932990e-01\n",
      "   8.94130102e-01]\n",
      " [ 8.49919782e-01 -5.01622587e-01 -2.02558255e-02 -6.58314969e-01\n",
      "   2.45411113e-01  2.59291840e-01  7.47235444e-01  4.39709346e-01\n",
      "   6.02088984e-01 -5.31302904e-01  1.21568036e+00  3.93083807e-01\n",
      "   7.94851429e-01]\n",
      " [ 6.31900147e-02 -3.04899937e-01  3.15352681e+00  1.56261494e+00\n",
      "   1.63138470e+00  6.03004278e-01  7.37042386e-01  8.32201581e-01\n",
      "   5.18587592e-01 -6.39810195e-01  7.85597132e-01  8.49860304e-01\n",
      "   2.65365174e-01]\n",
      " [ 1.52425958e+00  1.42983616e+00  5.33310914e-01 -1.79725339e+00\n",
      "   1.90857942e+00  1.20859286e+00  1.10399247e+00 -1.28725649e+00\n",
      "   7.85792046e-01 -5.45987790e-03 -2.46602607e-01  1.30663680e+00\n",
      "   3.37149378e-02]\n",
      " [ 3.50408818e-01 -6.71519421e-01  1.75115774e+00 -1.14236380e+00\n",
      "   6.61203190e-01  5.53902501e-01  7.37042386e-01 -1.88278230e-01\n",
      "  -4.16627998e-01 -2.14127745e-01  6.13563842e-01  2.68508399e-01\n",
      "   4.30829629e-01]\n",
      " [-8.66632742e-02  1.25993932e+00  1.04997320e+00 -2.59686523e-01\n",
      "   1.06813754e-01  2.42924581e-01  4.61829824e-01 -8.94764253e-01\n",
      "   6.18789262e-01 -2.55861319e-01  3.55513908e-01  1.29279509e+00\n",
      "   6.68078287e-02]\n",
      " [-1.29797736e+00 -1.16332605e+00 -2.41682521e-01  4.23676528e-01\n",
      "   3.75150746e-02  1.83054870e+00  1.86617262e-01 -1.83674562e+00\n",
      "   6.76800755e-02 -7.94224417e-01  1.83480618e-01  7.52968320e-01\n",
      "   4.50685364e-01]\n",
      " [ 1.07469972e+00 -7.87764623e-01  1.12378210e+00  1.56261494e+00\n",
      "  -1.00196512e+00  1.12675657e+00  9.20517427e-01 -1.20875804e+00\n",
      "   4.35086200e-01 -7.23277342e-01  1.77478855e+00  7.94493456e-01\n",
      "  -1.12453625e+00]\n",
      " [ 6.31900147e-02  1.31359095e+00 -1.67873623e-01  8.50778434e-01\n",
      "  -1.07126380e+00 -1.00098710e+00 -3.74000920e-01  1.93117984e+00\n",
      "   1.75792404e-02 -1.30660598e-01 -4.61644219e-01 -7.97303427e-01\n",
      "  -7.77060890e-01]\n",
      " [-2.86467659e-01  9.29087593e-01 -1.42262490e+00 -9.99996494e-01\n",
      "  -1.41775719e+00 -1.03372162e+00 -7.20564886e-01  5.18207793e-01\n",
      "  -1.30174275e+00 -7.14930627e-01 -1.06376073e+00 -6.45044595e-01\n",
      "  -1.25028923e+00]\n",
      " [ 8.37432008e-01 -1.02025503e+00 -1.64405159e+00 -4.30527285e-01\n",
      "  -4.47575682e-01 -2.64460448e-01 -1.70139763e-01 -3.45275124e-01\n",
      "  -1.46874554e+00 -5.47996333e-01  1.21568036e+00 -1.74426386e-01\n",
      "  -3.96492645e-01]\n",
      " [-7.85978623e-01 -1.29745512e+00 -3.71070075e+00 -2.53756336e+00\n",
      "  -8.63367758e-01 -4.60867555e-01 -1.41369282e+00 -6.59268912e-01\n",
      "  -1.98645417e+00 -1.32006744e+00  4.41530552e-01 -1.06029596e+00\n",
      "  -7.60514445e-01]\n",
      " [-6.61100882e-01 -7.78822685e-01 -6.10727014e-01 -1.45792681e-01\n",
      "   4.26473452e+00  3.90229911e-01  3.19127014e-01 -3.45275124e-01\n",
      "   2.78982545e+00 -1.04879922e+00  9.14622099e-01  6.08827183e-02\n",
      "   6.19459107e-01]\n",
      " [-1.48529397e+00 -2.42306367e-01  1.38211325e+00  5.66043830e-01\n",
      "   2.32437150e+00 -1.08282340e+00 -9.85584391e-01 -1.75824717e+00\n",
      "  -8.26224299e-02 -1.09053279e+00  1.14473279e-02 -4.51260627e-01\n",
      "  -4.13039090e-01]\n",
      " [-1.73504945e+00 -9.30835641e-01  1.23449545e+00  1.38941923e-01\n",
      "  -4.47575682e-01  7.83044127e-01  9.81675774e-01 -5.80770465e-01\n",
      "   1.47050346e+00 -1.02793243e+00  5.44556504e-02  9.32910576e-01\n",
      "  -2.31028190e-01]\n",
      " [-1.17366298e-02 -6.44693605e-01  8.65450957e-01  2.98628797e+00\n",
      "   2.67086489e+00  1.69961063e+00  9.51096601e-01 -1.20875804e+00\n",
      "   5.85388705e-01 -7.35797414e-01  1.55974694e+00  1.26511166e+00\n",
      "   7.78304984e-01]\n",
      " [-1.92236606e+00  1.20628769e+00 -2.01309609e+00 -3.42537870e-03\n",
      "   4.53307151e-01  1.50320352e+00  6.35111808e-01 -9.73262700e-01\n",
      "   3.29083380e+00 -9.23598495e-01 -8.48719121e-01  3.10033535e-01\n",
      "  -6.21524303e-01]\n",
      " [-7.23539752e-01  1.82328146e+00  1.34520880e+00  1.98971685e+00\n",
      "   1.06813754e-01 -1.00787858e-01  1.76424204e-01  5.18207793e-01\n",
      "   1.67881746e-01 -1.26581380e+00 -1.17577639e-01  7.39126608e-01\n",
      "  -1.27345425e+00]\n",
      " [-1.41036733e+00  1.71597819e+00  9.04575223e-02  4.23676528e-01\n",
      "  -1.27915984e+00  9.79451235e-01  1.09379941e+00 -1.20875804e+00\n",
      "   2.17191515e+00 -9.65332068e-01 -8.48719121e-01  1.45889563e+00\n",
      "  -1.22381492e+00]\n",
      " [-9.85783008e-01 -1.07390666e+00 -2.27142723e+00 -7.72208810e-01\n",
      "   3.50244905e+00 -6.73641922e-01 -6.89985713e-01 -1.75824717e+00\n",
      "   1.48720374e+00 -9.44465281e-01  1.43072197e+00  6.69918047e-01\n",
      "  -1.05275204e-01]\n",
      " [-8.35929719e-01 -1.25274543e+00 -1.53333825e+00 -1.34167802e+00\n",
      "   2.46296886e+00 -5.91805627e-01 -1.08981416e-01 -1.09779783e-01\n",
      "   1.92141098e+00 -7.14930627e-01  4.84538875e-01 -3.82052067e-01\n",
      "   6.22046822e-04]\n",
      " [-1.14812407e+00 -2.78074121e-01 -2.45594948e+00 -5.72894587e-01\n",
      "  -2.39679643e-01 -5.16860810e-02  2.17196436e-01 -8.16265806e-01\n",
      "  -3.49826884e-01 -7.56664201e-01  1.38771365e+00  5.17659215e-01\n",
      "  -1.31749517e-01]\n",
      " [-3.48906530e-01 -5.73158096e-01 -3.15491420e-01  8.50778434e-01\n",
      "  -1.14056248e+00 -1.44290309e+00 -2.00718936e-01  9.10700028e-01\n",
      "   3.42795188e-02 -7.56664201e-01 -2.89610929e-01 -2.29793234e-01\n",
      "  -8.66411696e-01]\n",
      " [ 4.25335463e-01 -1.29745512e+00 -2.02558255e-02 -7.15261889e-01\n",
      "   6.61203190e-01  4.39331688e-01 -6.69599597e-01  1.46018916e+00\n",
      "  -1.98645417e+00 -8.10917846e-01  3.12505585e-01 -9.08037123e-01\n",
      "   6.22046822e-04]\n",
      " [-8.23441945e-01  5.27776077e-02  3.48788667e-01  4.23676528e-01\n",
      "  -1.70380964e-01  4.88433465e-01  1.56038089e-01 -1.88278230e-01\n",
      "  -5.00129389e-01 -9.65332068e-01 -6.33677509e-01  1.09901112e+00\n",
      "  -1.03187615e+00]\n",
      " [-7.85978623e-01 -1.05602278e+00  7.17833160e-01 -4.02053825e-01\n",
      "  -1.70380964e-01  2.59291840e-01  7.06463212e-01  4.72171110e-02\n",
      "   7.85792046e-01 -2.14127745e-01  1.04364707e+00 -3.95893779e-01\n",
      "  -2.37646768e-01]\n",
      " [-1.51026952e+00 -2.33364428e-01  1.52973104e+00  2.55918606e+00\n",
      "  -5.86173041e-01 -2.15358671e-01  2.88547841e-01  1.69568450e+00\n",
      "   2.51383138e-01 -8.81864921e-01  9.74639728e-02 -2.02109810e-01\n",
      "  -9.39216056e-01]\n",
      " [-3.73882078e-01  1.32253289e+00  1.27361972e-01  9.93145736e-01\n",
      "   3.75150746e-02  9.30349458e-01  6.04532634e-01  5.18207793e-01\n",
      "   5.68688427e-01 -1.06131929e+00  1.04364707e+00  7.52968320e-01\n",
      "  -9.49143923e-01]\n",
      " [-2.45934035e+00 -7.87764623e-01 -6.10727014e-01  5.66043830e-01\n",
      "  -1.07126380e+00  3.24760875e-01  2.17196436e-01  1.22469382e+00\n",
      "   6.68890097e-01 -1.34093423e+00  3.28007983e+00  3.93083807e-01\n",
      "  -1.13446411e+00]\n",
      " [ 6.12652074e-01 -6.53635544e-01 -4.63109217e-01  1.27788034e+00\n",
      "  -9.32666438e-01 -6.24540145e-01 -1.19174473e-01 -7.37767359e-01\n",
      "  -9.67737184e-01 -5.73036477e-01  1.40472295e-01  2.68508399e-01\n",
      "  -9.19360321e-01]\n",
      " [-1.44783065e+00  4.46222907e-01 -5.00013666e-01 -4.30527285e-01\n",
      "   7.99800549e-01 -8.86416289e-01 -6.49213482e-01  5.18207793e-01\n",
      "  -1.10133941e+00 -1.02793243e+00  5.44556504e-02 -9.13761140e-02\n",
      "  -8.26700227e-01]\n",
      " [-3.48906530e-01 -5.19506464e-01 -6.10727014e-01 -2.02739602e-01\n",
      "  -1.00196512e+00 -1.00787858e-01  5.84146518e-01 -8.16265806e-01\n",
      "   2.68083416e-01 -5.06262760e-01  9.14622099e-01  7.66810032e-01\n",
      "  -1.18512361e-01]\n",
      " [-8.85880815e-01 -6.98345237e-01 -5.73822565e-01  2.52835765e-01\n",
      "   1.76112434e-01 -1.90118635e+00 -9.55005217e-01  4.72171110e-02\n",
      "  -2.49625214e-01 -8.60998134e-01 -1.77789291e-01 -1.06029596e+00\n",
      "   3.97736738e-01]\n",
      " [-9.35831912e-01  1.33147483e+00 -6.10727014e-01 -2.88159983e-01\n",
      "   7.99800549e-01 -1.44290309e+00 -1.19963861e+00 -5.80770465e-01\n",
      "  -7.84034122e-01  1.29245426e+00 -1.27880235e+00 -8.11145139e-01\n",
      "   3.48097402e-01]\n",
      " [ 6.12652074e-01  1.07215861e+00 -6.47631463e-01 -3.42537870e-03\n",
      "  -8.63367758e-01 -1.05008888e+00 -1.50543034e+00  1.69568450e+00\n",
      "  -1.21824136e+00  2.44941563e-01 -5.90669186e-01 -1.06029596e+00\n",
      "  -5.61957099e-01]\n",
      " [ 1.67411287e+00 -6.35751667e-01  1.23449545e+00  1.56261494e+00\n",
      "  -1.70380964e-01  8.81247681e-01 -6.59406539e-01  1.30319226e+00\n",
      "   1.82120931e+00  3.29149243e+00 -1.62286893e+00 -8.66511987e-01\n",
      "  -2.97213972e-01]\n",
      " [ 2.00555530e-01  1.05427473e+00 -7.95249260e-01  4.23676528e-01\n",
      "   1.06813754e-01 -1.24649599e+00 -1.43407894e+00  5.18207793e-01\n",
      "  -5.16829668e-01 -4.64529186e-01 -1.49384396e+00 -1.25407992e+00\n",
      "   2.65365174e-01]\n",
      " [-6.11149786e-01 -1.02919697e+00 -4.26204768e-01 -5.72894587e-01\n",
      "  -1.07126380e+00 -4.28133037e-01 -1.40349976e+00  1.85268139e+00\n",
      "  -6.00331060e-01  1.40607629e-01 -8.48719121e-01 -1.48938903e+00\n",
      "  -3.30306863e-01]\n",
      " [-9.98270782e-01  5.71410048e-01 -1.67873623e-01 -1.45792681e-01\n",
      "  -3.08978323e-01 -1.65567746e+00 -1.49523728e+00  2.82712452e-01\n",
      "  -1.46874554e+00  1.61474416e-01 -1.23579402e+00 -1.04645424e+00\n",
      "  -7.93607336e-01]\n",
      " [-1.74077693e-01 -9.30835641e-01 -1.67873623e-01 -4.30527285e-01\n",
      "   1.49278734e+00 -1.23012873e+00 -7.20564886e-01 -1.20875804e+00\n",
      "  -1.11803969e+00 -4.22795613e-01 -8.05710799e-01 -1.79390669e+00\n",
      "  -3.96492645e-01]\n",
      " [-5.86174237e-01  2.78901083e+00  1.01306875e+00  1.56261494e+00\n",
      "  -3.08978323e-01 -7.71845476e-01 -1.38311365e+00  2.08817673e+00\n",
      "  -8.50835235e-01 -4.71934514e-02 -5.47660864e-01 -1.24023821e+00\n",
      "  -7.77060890e-01]\n",
      " [ 1.38116659e-01 -4.39029017e-01  1.41901770e+00  1.70498225e+00\n",
      "   1.07699527e+00 -1.00787858e-01 -6.89985713e-01 -8.16265806e-01\n",
      "  -8.26224299e-02  8.29211592e-01 -1.45083564e+00 -1.73853985e+00\n",
      "  -1.07489691e+00]\n",
      " [ 2.87969948e-01  8.12842391e-01 -3.15491420e-01 -2.88159983e-01\n",
      "  -1.70380964e-01 -7.55478217e-01 -1.14867332e+00  1.93117984e+00\n",
      "   4.35086200e-01  2.25649980e+00 -1.66587725e+00 -1.48938903e+00\n",
      "  -2.47574635e-01]\n",
      " [ 7.74993137e-01  2.28826226e+00 -5.71602748e-02  1.38941923e-01\n",
      "  -5.86173041e-01 -4.28133037e-01 -1.17925249e+00  8.32201581e-01\n",
      "  -9.84437463e-01 -2.97594892e-01 -1.60585962e-01 -7.41936579e-01\n",
      "  -6.61235772e-01]\n",
      " [-5.23735367e-01 -9.84487273e-01 -9.79771507e-01  1.38941923e-01\n",
      "   1.76112434e-01 -1.27923050e+00 -1.40349976e+00  1.30319226e+00\n",
      "  -3.49826884e-01  1.03787946e+00 -1.57986060e+00 -1.43402218e+00\n",
      "  -3.63399754e-01]\n",
      " [-3.73882078e-01  1.03639086e+00 -2.02558255e-02  5.66043830e-01\n",
      "   3.84008472e-01 -9.19150807e-01 -7.71530176e-01 -1.52275183e+00\n",
      "  -1.28504247e+00 -4.71934514e-02 -7.19694154e-01 -1.79390669e+00\n",
      "  -4.95771317e-01]\n",
      " [-1.99053241e-01  5.08816478e-01  9.02355406e-01  1.27788034e+00\n",
      "   3.75150746e-02  9.56192498e-02 -1.38311365e+00  1.30319226e+00\n",
      "  -1.33514331e+00 -8.05803102e-02 -2.46602607e-01 -6.03519459e-01\n",
      "  -5.28864208e-01]\n",
      " [-6.86076430e-01  5.71410048e-01  1.01306875e+00  2.13208415e+00\n",
      "  -2.39679643e-01 -5.91805627e-01 -1.40349976e+00  2.08817673e+00\n",
      "  -7.84034122e-01  9.96145886e-01 -1.19278570e+00 -1.18487136e+00\n",
      "   4.30829629e-01]\n",
      " [ 5.00262107e-01  1.97529441e+00  1.82496664e+00  1.56261494e+00\n",
      "   7.99800549e-01 -4.60867555e-01 -1.01616356e+00 -7.37767359e-01\n",
      "  -8.34134957e-01  1.41348162e+00 -1.19278570e+00 -9.21878836e-01\n",
      "  -3.96492645e-01]\n",
      " [-8.66632742e-02  3.74687398e-01  1.23449545e+00  4.23676528e-01\n",
      "  -3.08978323e-01 -1.18102695e+00 -1.48504423e+00  1.30319226e+00\n",
      "  -1.43534498e+00 -2.14127745e-01 -7.62702476e-01 -3.82052067e-01\n",
      "  -4.95771317e-01]]\n"
     ]
    }
   ],
   "source": [
    "print(\"Support Vector for model are :\",svm.support_vectors_)"
   ]
  },
  {
   "cell_type": "code",
   "execution_count": 9,
   "metadata": {},
   "outputs": [
    {
     "name": "stdout",
     "output_type": "stream",
     "text": [
      "Number of suppoort Vectors of each class 0 : -  16\n",
      "Number of suppoort Vectors of each class 1 : -  27\n",
      "Number of suppoort Vectors of each class 2 : -  17\n"
     ]
    }
   ],
   "source": [
    "print(\"Number of suppoort Vectors of each class 0 : - \",svm.n_support_[0])\n",
    "print(\"Number of suppoort Vectors of each class 1 : - \",svm.n_support_[1])\n",
    "print(\"Number of suppoort Vectors of each class 2 : - \",svm.n_support_[2])"
   ]
  },
  {
   "cell_type": "code",
   "execution_count": 10,
   "metadata": {},
   "outputs": [
    {
     "name": "stdout",
     "output_type": "stream",
     "text": [
      "Indices for support vectors are :  [ 16  27  38  48  50  52  58  69  77  79  90 102 115 119 125 126   2  13\n",
      "  17  20  22  24  25  26  29  30  33  42  43  44  54  56  60  62  76  81\n",
      " 100 109 110 113 114 116 123   3   6   8  12  18  37  65  67  68  72  84\n",
      "  88  91  93 101 118 121]\n"
     ]
    }
   ],
   "source": [
    "print(\"Indices for support vectors are : \",svm.support_)"
   ]
  },
  {
   "cell_type": "markdown",
   "metadata": {
    "id": "0ABcdHGNwh6X"
   },
   "source": [
    "## Finding Accuracy of model on Test and Train Set"
   ]
  },
  {
   "cell_type": "code",
   "execution_count": 11,
   "metadata": {
    "colab": {
     "base_uri": "https://localhost:8080/"
    },
    "id": "6duA1sdPwo3G",
    "outputId": "2f364ee8-24c6-414f-c8d6-8120eca2ab61"
   },
   "outputs": [
    {
     "name": "stdout",
     "output_type": "stream",
     "text": [
      "The accuracy of the svm classifier on training data is 0.99 out of 1\n",
      "The accuracy of the svm classifier on test data is 1.00 out of 1\n"
     ]
    }
   ],
   "source": [
    "print('The accuracy of the svm classifier on training data is {:.2f} out of 1'.format(svm.score(X_train_std, y_train)))\n",
    "\n",
    "print('The accuracy of the svm classifier on test data is {:.2f} out of 1'.format(svm.score(X_test_std, y_test)))"
   ]
  },
  {
   "cell_type": "markdown",
   "metadata": {},
   "source": [
    "## Finding Accuracy of model on using confiusion matrix"
   ]
  },
  {
   "cell_type": "code",
   "execution_count": 12,
   "metadata": {},
   "outputs": [
    {
     "name": "stdout",
     "output_type": "stream",
     "text": [
      "[[16  0  0]\n",
      " [ 0 21  0]\n",
      " [ 0  0  8]]\n"
     ]
    }
   ],
   "source": [
    "from sklearn.metrics import confusion_matrix\n",
    "\n",
    "confusion_matrix = confusion_matrix(y_test, svm.predict(X_test_std))\n",
    "print(confusion_matrix)"
   ]
  },
  {
   "cell_type": "code",
   "execution_count": 13,
   "metadata": {},
   "outputs": [
    {
     "name": "stderr",
     "output_type": "stream",
     "text": [
      "C:\\ProgramData\\anaconda3\\Lib\\site-packages\\sklearn\\metrics\\_classification.py:1521: UserWarning: Note that pos_label (set to 0) is ignored when average != 'binary' (got 'macro'). You may use labels=[pos_label] to specify a single positive class.\n",
      "  warnings.warn(\n"
     ]
    }
   ],
   "source": [
    "from sklearn.metrics import confusion_matrix\n",
    "from sklearn.metrics import accuracy_score, precision_score, recall_score, f1_score\n",
    "\n",
    "Accuracy = accuracy_score(y_test, svm.predict(X_test_std))\n",
    "Precision = precision_score(y_test, svm.predict(X_test_std),average='macro')\n",
    "Sensitivity_recall = recall_score(y_test, svm.predict(X_test_std),average='macro')\n",
    "Specificity = recall_score(y_test, svm.predict(X_test_std), pos_label=0,average='macro')\n",
    "F1_score = f1_score(y_test, svm.predict(X_test_std),average='macro')"
   ]
  },
  {
   "cell_type": "code",
   "execution_count": 14,
   "metadata": {},
   "outputs": [
    {
     "name": "stdout",
     "output_type": "stream",
     "text": [
      "{'Accuracy': 1.0, 'Precision': 1.0, 'Sensitivity_recall': 1.0, 'Specificity': 1.0, 'F1_score': 1.0}"
     ]
    }
   ],
   "source": [
    "#metrics\n",
    "print({\"Accuracy\":Accuracy,\n",
    "       \"Precision\":Precision,\n",
    "       \"Sensitivity_recall\":Sensitivity_recall,\n",
    "       \"Specificity\":Specificity,\n",
    "       \"F1_score\":F1_score},end = \"\")"
   ]
  },
  {
   "cell_type": "markdown",
   "metadata": {},
   "source": [
    "## Tasks"
   ]
  },
  {
   "cell_type": "markdown",
   "metadata": {},
   "source": [
    "#### 1) For the model we created in the lab session write the following results"
   ]
  },
  {
   "cell_type": "code",
   "execution_count": 15,
   "metadata": {},
   "outputs": [
    {
     "name": "stdout",
     "output_type": "stream",
     "text": [
      "Number of suppoort Vectors of each class 0 : -  16\n",
      "Number of suppoort Vectors of each class 1 : -  27\n",
      "Number of suppoort Vectors of each class 2 : -  17\n"
     ]
    }
   ],
   "source": [
    "print(\"Number of suppoort Vectors of each class 0 : - \",svm.n_support_[0])\n",
    "print(\"Number of suppoort Vectors of each class 1 : - \",svm.n_support_[1])\n",
    "print(\"Number of suppoort Vectors of each class 2 : - \",svm.n_support_[2])"
   ]
  },
  {
   "cell_type": "markdown",
   "metadata": {},
   "source": [
    "#### Accuracy of Model= 1.0"
   ]
  },
  {
   "cell_type": "code",
   "execution_count": 16,
   "metadata": {},
   "outputs": [
    {
     "name": "stdout",
     "output_type": "stream",
     "text": [
      "Training Accuracy= 0.37593984962406013\n",
      "Testing Accuracy= 0.4666666666666667\n"
     ]
    }
   ],
   "source": [
    "# Training Accuracy\n",
    "print(\"Training Accuracy=\",svm.score(X_train, y_train))\n",
    "# Testing Accuracy\n",
    "print(\"Testing Accuracy=\",svm.score(X_test, y_test))"
   ]
  },
  {
   "cell_type": "markdown",
   "metadata": {},
   "source": [
    "#### Precision = 1.0\n",
    "#### F1 Score = 1.0"
   ]
  },
  {
   "cell_type": "markdown",
   "metadata": {},
   "source": [
    "#### Crete the model with following settings\n",
    "kernel='poly', \n",
    "degree = Other than 3 any integer number preferably 5\n",
    "random_state= any number of your choice, \n",
    "coef0 = any float number of your choice other than 0.0\n",
    "gamma=.10, \n",
    "C=1.0"
   ]
  },
  {
   "cell_type": "code",
   "execution_count": 17,
   "metadata": {},
   "outputs": [
    {
     "data": {
      "text/html": [
       "<style>#sk-container-id-2 {color: black;}#sk-container-id-2 pre{padding: 0;}#sk-container-id-2 div.sk-toggleable {background-color: white;}#sk-container-id-2 label.sk-toggleable__label {cursor: pointer;display: block;width: 100%;margin-bottom: 0;padding: 0.3em;box-sizing: border-box;text-align: center;}#sk-container-id-2 label.sk-toggleable__label-arrow:before {content: \"▸\";float: left;margin-right: 0.25em;color: #696969;}#sk-container-id-2 label.sk-toggleable__label-arrow:hover:before {color: black;}#sk-container-id-2 div.sk-estimator:hover label.sk-toggleable__label-arrow:before {color: black;}#sk-container-id-2 div.sk-toggleable__content {max-height: 0;max-width: 0;overflow: hidden;text-align: left;background-color: #f0f8ff;}#sk-container-id-2 div.sk-toggleable__content pre {margin: 0.2em;color: black;border-radius: 0.25em;background-color: #f0f8ff;}#sk-container-id-2 input.sk-toggleable__control:checked~div.sk-toggleable__content {max-height: 200px;max-width: 100%;overflow: auto;}#sk-container-id-2 input.sk-toggleable__control:checked~label.sk-toggleable__label-arrow:before {content: \"▾\";}#sk-container-id-2 div.sk-estimator input.sk-toggleable__control:checked~label.sk-toggleable__label {background-color: #d4ebff;}#sk-container-id-2 div.sk-label input.sk-toggleable__control:checked~label.sk-toggleable__label {background-color: #d4ebff;}#sk-container-id-2 input.sk-hidden--visually {border: 0;clip: rect(1px 1px 1px 1px);clip: rect(1px, 1px, 1px, 1px);height: 1px;margin: -1px;overflow: hidden;padding: 0;position: absolute;width: 1px;}#sk-container-id-2 div.sk-estimator {font-family: monospace;background-color: #f0f8ff;border: 1px dotted black;border-radius: 0.25em;box-sizing: border-box;margin-bottom: 0.5em;}#sk-container-id-2 div.sk-estimator:hover {background-color: #d4ebff;}#sk-container-id-2 div.sk-parallel-item::after {content: \"\";width: 100%;border-bottom: 1px solid gray;flex-grow: 1;}#sk-container-id-2 div.sk-label:hover label.sk-toggleable__label {background-color: #d4ebff;}#sk-container-id-2 div.sk-serial::before {content: \"\";position: absolute;border-left: 1px solid gray;box-sizing: border-box;top: 0;bottom: 0;left: 50%;z-index: 0;}#sk-container-id-2 div.sk-serial {display: flex;flex-direction: column;align-items: center;background-color: white;padding-right: 0.2em;padding-left: 0.2em;position: relative;}#sk-container-id-2 div.sk-item {position: relative;z-index: 1;}#sk-container-id-2 div.sk-parallel {display: flex;align-items: stretch;justify-content: center;background-color: white;position: relative;}#sk-container-id-2 div.sk-item::before, #sk-container-id-2 div.sk-parallel-item::before {content: \"\";position: absolute;border-left: 1px solid gray;box-sizing: border-box;top: 0;bottom: 0;left: 50%;z-index: -1;}#sk-container-id-2 div.sk-parallel-item {display: flex;flex-direction: column;z-index: 1;position: relative;background-color: white;}#sk-container-id-2 div.sk-parallel-item:first-child::after {align-self: flex-end;width: 50%;}#sk-container-id-2 div.sk-parallel-item:last-child::after {align-self: flex-start;width: 50%;}#sk-container-id-2 div.sk-parallel-item:only-child::after {width: 0;}#sk-container-id-2 div.sk-dashed-wrapped {border: 1px dashed gray;margin: 0 0.4em 0.5em 0.4em;box-sizing: border-box;padding-bottom: 0.4em;background-color: white;}#sk-container-id-2 div.sk-label label {font-family: monospace;font-weight: bold;display: inline-block;line-height: 1.2em;}#sk-container-id-2 div.sk-label-container {text-align: center;}#sk-container-id-2 div.sk-container {/* jupyter's `normalize.less` sets `[hidden] { display: none; }` but bootstrap.min.css set `[hidden] { display: none !important; }` so we also need the `!important` here to be able to override the default hidden behavior on the sphinx rendered scikit-learn.org. See: https://github.com/scikit-learn/scikit-learn/issues/21755 */display: inline-block !important;position: relative;}#sk-container-id-2 div.sk-text-repr-fallback {display: none;}</style><div id=\"sk-container-id-2\" class=\"sk-top-container\"><div class=\"sk-text-repr-fallback\"><pre>SVC(coef0=1.5, degree=5, gamma=0.1, kernel=&#x27;poly&#x27;, random_state=6)</pre><b>In a Jupyter environment, please rerun this cell to show the HTML representation or trust the notebook. <br />On GitHub, the HTML representation is unable to render, please try loading this page with nbviewer.org.</b></div><div class=\"sk-container\" hidden><div class=\"sk-item\"><div class=\"sk-estimator sk-toggleable\"><input class=\"sk-toggleable__control sk-hidden--visually\" id=\"sk-estimator-id-2\" type=\"checkbox\" checked><label for=\"sk-estimator-id-2\" class=\"sk-toggleable__label sk-toggleable__label-arrow\">SVC</label><div class=\"sk-toggleable__content\"><pre>SVC(coef0=1.5, degree=5, gamma=0.1, kernel=&#x27;poly&#x27;, random_state=6)</pre></div></div></div></div></div>"
      ],
      "text/plain": [
       "SVC(coef0=1.5, degree=5, gamma=0.1, kernel='poly', random_state=6)"
      ]
     },
     "execution_count": 17,
     "metadata": {},
     "output_type": "execute_result"
    }
   ],
   "source": [
    "from sklearn.svm import SVC\n",
    "# Define the SVM model with polynomial kernel\n",
    "svm = SVC(kernel='poly', degree=5, random_state=6, coef0=1.5, \n",
    " gamma=0.1, C=1.0)\n",
    "# Assuming X_train_std and y_train are your training data\n",
    "svm.fit(X_train_std, y_train)"
   ]
  },
  {
   "cell_type": "code",
   "execution_count": 18,
   "metadata": {},
   "outputs": [
    {
     "name": "stdout",
     "output_type": "stream",
     "text": [
      "Number of support vectors of class 0: 10\n",
      "Number of support vectors of class 1: 16\n"
     ]
    }
   ],
   "source": [
    "print(\"Number of support vectors of class 0:\", svm.n_support_[0])\n",
    "print(\"Number of support vectors of class 1:\", svm.n_support_[1])"
   ]
  },
  {
   "cell_type": "code",
   "execution_count": 19,
   "metadata": {},
   "outputs": [
    {
     "name": "stdout",
     "output_type": "stream",
     "text": [
      "Training accuracy = 1.0\n",
      "Testing accuracy = 0.9777777777777777\n"
     ]
    }
   ],
   "source": [
    "# 1. Training Accuracy\n",
    "print(\"Training accuracy =\", svm.score(X_train_std, y_train))\n",
    "# 2. Testing Accuracy\n",
    "print(\"Testing accuracy =\", svm.score(X_test_std, y_test))"
   ]
  },
  {
   "cell_type": "code",
   "execution_count": 20,
   "metadata": {},
   "outputs": [
    {
     "name": "stdout",
     "output_type": "stream",
     "text": [
      "Accuracy:  0.9777777777777777\n",
      "Precision:  0.9803921568627452\n",
      "F1_score:  0.9817689085981769\n"
     ]
    }
   ],
   "source": [
    "from sklearn.metrics import confusion_matrix\n",
    "from sklearn.metrics import accuracy_score, precision_score, recall_score, f1_score\n",
    "Accuracy = accuracy_score(y_test, svm.predict(X_test_std))\n",
    "print(\"Accuracy: \", Accuracy)\n",
    "Precision = precision_score(y_test, svm.predict(X_test_std),average='macro')\n",
    "print(\"Precision: \", Precision)\n",
    "F1_score = f1_score(y_test, svm.predict(X_test_std),average='macro')\n",
    "print(\"F1_score: \", F1_score)"
   ]
  }
 ],
 "metadata": {
  "colab": {
   "collapsed_sections": [],
   "machine_shape": "hm",
   "name": "ML Lab 6_ support_vector_machine.ipynb",
   "provenance": [],
   "toc_visible": true
  },
  "kernelspec": {
   "display_name": "Python 3 (ipykernel)",
   "language": "python",
   "name": "python3"
  },
  "language_info": {
   "codemirror_mode": {
    "name": "ipython",
    "version": 3
   },
   "file_extension": ".py",
   "mimetype": "text/x-python",
   "name": "python",
   "nbconvert_exporter": "python",
   "pygments_lexer": "ipython3",
   "version": "3.11.5"
  }
 },
 "nbformat": 4,
 "nbformat_minor": 1
}
